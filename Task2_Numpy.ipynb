{
  "cells": [
    {
      "cell_type": "markdown",
      "metadata": {
        "id": "view-in-github",
        "colab_type": "text"
      },
      "source": [
        "<a href=\"https://colab.research.google.com/github/navyavemavarapu/Guvi_Tasks/blob/main/Task2_Numpy.ipynb\" target=\"_parent\"><img src=\"https://colab.research.google.com/assets/colab-badge.svg\" alt=\"Open In Colab\"/></a>"
      ]
    },
    {
      "cell_type": "markdown",
      "metadata": {
        "id": "BKCjXkK4EbhD"
      },
      "source": [
        "# Numpy\n",
        "\n"
      ]
    },
    {
      "cell_type": "markdown",
      "metadata": {
        "id": "eNpWrYGwEbhL"
      },
      "source": [
        "#### 1. Import the numpy package under the name `np` (★☆☆) \n",
        "(**hint**: import … as …)"
      ]
    },
    {
      "cell_type": "code",
      "execution_count": 1,
      "metadata": {
        "collapsed": true,
        "id": "T6jP-W6zEbhN"
      },
      "outputs": [],
      "source": [
        "import numpy as np"
      ]
    },
    {
      "cell_type": "markdown",
      "metadata": {
        "id": "_8qiG-U5EbhO"
      },
      "source": [
        "#### 2. Print the numpy version and the configuration (★☆☆) \n",
        "(**hint**: np.\\_\\_version\\_\\_, np.show\\_config)"
      ]
    },
    {
      "cell_type": "code",
      "execution_count": 2,
      "metadata": {
        "id": "OiPedoAIEbhP",
        "outputId": "9022fd18-596b-48d4-9f37-281a9de0a7d0",
        "colab": {
          "base_uri": "https://localhost:8080/"
        }
      },
      "outputs": [
        {
          "output_type": "stream",
          "name": "stdout",
          "text": [
            "1.21.6\n"
          ]
        }
      ],
      "source": [
        "print(np.__version__)"
      ]
    },
    {
      "cell_type": "code",
      "source": [
        "print(np.show_config())"
      ],
      "metadata": {
        "colab": {
          "base_uri": "https://localhost:8080/"
        },
        "id": "Cokf44ZX5b1q",
        "outputId": "ed82c1f3-a1ad-4904-ee45-41e5252119f4"
      },
      "execution_count": 3,
      "outputs": [
        {
          "output_type": "stream",
          "name": "stdout",
          "text": [
            "blas_mkl_info:\n",
            "  NOT AVAILABLE\n",
            "blis_info:\n",
            "  NOT AVAILABLE\n",
            "openblas_info:\n",
            "    libraries = ['openblas', 'openblas']\n",
            "    library_dirs = ['/usr/local/lib']\n",
            "    language = c\n",
            "    define_macros = [('HAVE_CBLAS', None)]\n",
            "    runtime_library_dirs = ['/usr/local/lib']\n",
            "blas_opt_info:\n",
            "    libraries = ['openblas', 'openblas']\n",
            "    library_dirs = ['/usr/local/lib']\n",
            "    language = c\n",
            "    define_macros = [('HAVE_CBLAS', None)]\n",
            "    runtime_library_dirs = ['/usr/local/lib']\n",
            "lapack_mkl_info:\n",
            "  NOT AVAILABLE\n",
            "openblas_lapack_info:\n",
            "    libraries = ['openblas', 'openblas']\n",
            "    library_dirs = ['/usr/local/lib']\n",
            "    language = c\n",
            "    define_macros = [('HAVE_CBLAS', None)]\n",
            "    runtime_library_dirs = ['/usr/local/lib']\n",
            "lapack_opt_info:\n",
            "    libraries = ['openblas', 'openblas']\n",
            "    library_dirs = ['/usr/local/lib']\n",
            "    language = c\n",
            "    define_macros = [('HAVE_CBLAS', None)]\n",
            "    runtime_library_dirs = ['/usr/local/lib']\n",
            "Supported SIMD extensions in this NumPy install:\n",
            "    baseline = SSE,SSE2,SSE3\n",
            "    found = SSSE3,SSE41,POPCNT,SSE42,AVX,F16C,FMA3,AVX2\n",
            "    not found = AVX512F,AVX512CD,AVX512_KNL,AVX512_KNM,AVX512_SKX,AVX512_CLX,AVX512_CNL,AVX512_ICL\n",
            "None\n"
          ]
        }
      ]
    },
    {
      "cell_type": "markdown",
      "metadata": {
        "id": "KeZd6tLpEbhP"
      },
      "source": [
        "#### 3. Create a null vector of size 10 (★☆☆) \n",
        "(**hint**: np.zeros)"
      ]
    },
    {
      "cell_type": "code",
      "execution_count": 4,
      "metadata": {
        "id": "GOmd9RRLEbhS"
      },
      "outputs": [],
      "source": [
        "null_vector = np.zeros(10)"
      ]
    },
    {
      "cell_type": "code",
      "source": [
        "print(null_vector)"
      ],
      "metadata": {
        "id": "TMeeRF9_H9Gr",
        "outputId": "d9ee17e3-7637-44b9-fcaf-06826c54a04b",
        "colab": {
          "base_uri": "https://localhost:8080/"
        }
      },
      "execution_count": 5,
      "outputs": [
        {
          "output_type": "stream",
          "name": "stdout",
          "text": [
            "[0. 0. 0. 0. 0. 0. 0. 0. 0. 0.]\n"
          ]
        }
      ]
    },
    {
      "cell_type": "markdown",
      "metadata": {
        "id": "aaFKFGZiEbhU"
      },
      "source": [
        "#### 4.  How to find the memory size of any array (★☆☆) \n",
        "(**hint**: size, itemsize)"
      ]
    },
    {
      "cell_type": "code",
      "execution_count": 6,
      "metadata": {
        "id": "IajxDZfVEbhU",
        "outputId": "3776bf8d-d424-49b3-ba90-b074532d60c7",
        "colab": {
          "base_uri": "https://localhost:8080/"
        }
      },
      "outputs": [
        {
          "output_type": "stream",
          "name": "stdout",
          "text": [
            "10\n",
            "8\n"
          ]
        }
      ],
      "source": [
        "print(null_vector.size)\n",
        "print(null_vector.itemsize)"
      ]
    },
    {
      "cell_type": "code",
      "source": [
        "#size of array = array.size\n",
        "#Memory size of one array element in bytes = array.itemsize\n",
        "print(\"Memory size of array in bytes is: \",null_vector.size * null_vector.itemsize)"
      ],
      "metadata": {
        "colab": {
          "base_uri": "https://localhost:8080/"
        },
        "id": "1SPecn805s_Z",
        "outputId": "8e847845-f870-4f71-d0a4-56406e17dfee"
      },
      "execution_count": 7,
      "outputs": [
        {
          "output_type": "stream",
          "name": "stdout",
          "text": [
            "Memory size of array in bytes is:  80\n"
          ]
        }
      ]
    },
    {
      "cell_type": "markdown",
      "metadata": {
        "id": "J-L0ANsNEbhV"
      },
      "source": [
        "#### 5.  How to get the documentation of the numpy add function from the command line? (★☆☆) \n",
        "(**hint**: np.info)"
      ]
    },
    {
      "cell_type": "code",
      "execution_count": 8,
      "metadata": {
        "collapsed": true,
        "id": "INo9_wYGEbhW",
        "outputId": "7c1e2fe1-2180-4e85-d4da-817cbee21f05",
        "colab": {
          "base_uri": "https://localhost:8080/"
        }
      },
      "outputs": [
        {
          "output_type": "stream",
          "name": "stdout",
          "text": [
            "add(x1, x2, /, out=None, *, where=True, casting='same_kind', order='K', dtype=None, subok=True[, signature, extobj])\n",
            "\n",
            "Add arguments element-wise.\n",
            "\n",
            "Parameters\n",
            "----------\n",
            "x1, x2 : array_like\n",
            "    The arrays to be added.\n",
            "    If ``x1.shape != x2.shape``, they must be broadcastable to a common\n",
            "    shape (which becomes the shape of the output).\n",
            "out : ndarray, None, or tuple of ndarray and None, optional\n",
            "    A location into which the result is stored. If provided, it must have\n",
            "    a shape that the inputs broadcast to. If not provided or None,\n",
            "    a freshly-allocated array is returned. A tuple (possible only as a\n",
            "    keyword argument) must have length equal to the number of outputs.\n",
            "where : array_like, optional\n",
            "    This condition is broadcast over the input. At locations where the\n",
            "    condition is True, the `out` array will be set to the ufunc result.\n",
            "    Elsewhere, the `out` array will retain its original value.\n",
            "    Note that if an uninitialized `out` array is created via the default\n",
            "    ``out=None``, locations within it where the condition is False will\n",
            "    remain uninitialized.\n",
            "**kwargs\n",
            "    For other keyword-only arguments, see the\n",
            "    :ref:`ufunc docs <ufuncs.kwargs>`.\n",
            "\n",
            "Returns\n",
            "-------\n",
            "add : ndarray or scalar\n",
            "    The sum of `x1` and `x2`, element-wise.\n",
            "    This is a scalar if both `x1` and `x2` are scalars.\n",
            "\n",
            "Notes\n",
            "-----\n",
            "Equivalent to `x1` + `x2` in terms of array broadcasting.\n",
            "\n",
            "Examples\n",
            "--------\n",
            ">>> np.add(1.0, 4.0)\n",
            "5.0\n",
            ">>> x1 = np.arange(9.0).reshape((3, 3))\n",
            ">>> x2 = np.arange(3.0)\n",
            ">>> np.add(x1, x2)\n",
            "array([[  0.,   2.,   4.],\n",
            "       [  3.,   5.,   7.],\n",
            "       [  6.,   8.,  10.]])\n",
            "\n",
            "The ``+`` operator can be used as a shorthand for ``np.add`` on ndarrays.\n",
            "\n",
            ">>> x1 = np.arange(9.0).reshape((3, 3))\n",
            ">>> x2 = np.arange(3.0)\n",
            ">>> x1 + x2\n",
            "array([[ 0.,  2.,  4.],\n",
            "       [ 3.,  5.,  7.],\n",
            "       [ 6.,  8., 10.]])\n",
            "None\n"
          ]
        }
      ],
      "source": [
        "print(np.info(np.add))"
      ]
    },
    {
      "cell_type": "markdown",
      "metadata": {
        "id": "UjoxFur7EbhX"
      },
      "source": [
        "#### 6.  Create a null vector of size 10 but the fifth value which is 1 (★☆☆) \n",
        "(**hint**: array\\[4\\])"
      ]
    },
    {
      "cell_type": "code",
      "execution_count": 9,
      "metadata": {
        "id": "TbykVqGOEbhY"
      },
      "outputs": [],
      "source": [
        "null_vect2 = np.zeros(10)"
      ]
    },
    {
      "cell_type": "code",
      "source": [
        "null_vect2[4] = 1"
      ],
      "metadata": {
        "id": "WfXayIpIK7Qr"
      },
      "execution_count": 10,
      "outputs": []
    },
    {
      "cell_type": "code",
      "source": [
        "print(null_vect2)"
      ],
      "metadata": {
        "id": "PrdRUVpUK8xc",
        "outputId": "c9f646f2-5c72-438b-9963-6612f795f473",
        "colab": {
          "base_uri": "https://localhost:8080/"
        }
      },
      "execution_count": 11,
      "outputs": [
        {
          "output_type": "stream",
          "name": "stdout",
          "text": [
            "[0. 0. 0. 0. 1. 0. 0. 0. 0. 0.]\n"
          ]
        }
      ]
    },
    {
      "cell_type": "markdown",
      "metadata": {
        "id": "f4bCOOJoEbhY"
      },
      "source": [
        "#### 7.  Create a vector with values ranging from 10 to 49 (★☆☆) \n",
        "(**hint**: np.arange)"
      ]
    },
    {
      "cell_type": "code",
      "execution_count": 12,
      "metadata": {
        "id": "H1CoOeofEbhZ",
        "outputId": "d98a294f-9583-4bcf-bdcb-52444fb5df59",
        "colab": {
          "base_uri": "https://localhost:8080/"
        }
      },
      "outputs": [
        {
          "output_type": "stream",
          "name": "stdout",
          "text": [
            "[10 11 12 13 14 15 16 17 18 19 20 21 22 23 24 25 26 27 28 29 30 31 32 33\n",
            " 34 35 36 37 38 39 40 41 42 43 44 45 46 47 48 49]\n"
          ]
        }
      ],
      "source": [
        "print(np.arange(10,50))\n",
        "#last element will not be included"
      ]
    },
    {
      "cell_type": "markdown",
      "metadata": {
        "id": "bdMY562MEbhZ"
      },
      "source": [
        "#### 8.  Reverse a vector (first element becomes last) (★☆☆) \n",
        "(**hint**: array\\[::-1\\])"
      ]
    },
    {
      "cell_type": "code",
      "execution_count": 13,
      "metadata": {
        "id": "BpZfWSNoEbha"
      },
      "outputs": [],
      "source": [
        "array1 = np.array([1,2,3,4,5,6,7,8])"
      ]
    },
    {
      "cell_type": "code",
      "source": [
        "print(array1[::-1])"
      ],
      "metadata": {
        "id": "DvC1sYl3Lzei",
        "outputId": "4024bdca-276c-4bdc-9bc3-cb4ef78fb5d7",
        "colab": {
          "base_uri": "https://localhost:8080/"
        }
      },
      "execution_count": 14,
      "outputs": [
        {
          "output_type": "stream",
          "name": "stdout",
          "text": [
            "[8 7 6 5 4 3 2 1]\n"
          ]
        }
      ]
    },
    {
      "cell_type": "markdown",
      "metadata": {
        "id": "dSXOwjedEbha"
      },
      "source": [
        "#### 9.  Create a 3x3 matrix with values ranging from 0 to 8 (★☆☆) \n",
        "(**hint**: reshape)"
      ]
    },
    {
      "cell_type": "code",
      "execution_count": 15,
      "metadata": {
        "id": "yRho7_n6Ebhb"
      },
      "outputs": [],
      "source": [
        "a = np.array([0,1,2,3,4,5,6,7,8])"
      ]
    },
    {
      "cell_type": "code",
      "source": [
        "print(np.reshape(a, (3,3)))"
      ],
      "metadata": {
        "id": "BHPLbRLKMN2N",
        "outputId": "70106738-79bb-4898-830d-37e276c826f0",
        "colab": {
          "base_uri": "https://localhost:8080/"
        }
      },
      "execution_count": 16,
      "outputs": [
        {
          "output_type": "stream",
          "name": "stdout",
          "text": [
            "[[0 1 2]\n",
            " [3 4 5]\n",
            " [6 7 8]]\n"
          ]
        }
      ]
    },
    {
      "cell_type": "markdown",
      "metadata": {
        "id": "V6JRupkYEbhb"
      },
      "source": [
        "#### 10. Find indices of non-zero elements from \\[1,2,0,0,4,0\\] (★☆☆) \n",
        "(**hint**: np.nonzero)"
      ]
    },
    {
      "cell_type": "code",
      "execution_count": 17,
      "metadata": {
        "id": "sQp88yqEEbhc"
      },
      "outputs": [],
      "source": [
        "notnon_zero = np.array([1,2,0,0,4,0])"
      ]
    },
    {
      "cell_type": "code",
      "source": [
        "np.nonzero(notnon_zero)"
      ],
      "metadata": {
        "id": "vaESPh1hM989",
        "outputId": "a0f1bc6b-a901-4832-9b39-411bae98aa5d",
        "colab": {
          "base_uri": "https://localhost:8080/"
        }
      },
      "execution_count": 18,
      "outputs": [
        {
          "output_type": "execute_result",
          "data": {
            "text/plain": [
              "(array([0, 1, 4]),)"
            ]
          },
          "metadata": {},
          "execution_count": 18
        }
      ]
    },
    {
      "cell_type": "markdown",
      "metadata": {
        "id": "WzflRhAIEbhc"
      },
      "source": [
        "#### 11. Create a 3x3 identity matrix (★☆☆) \n",
        "(**hint**: np.eye)"
      ]
    },
    {
      "cell_type": "code",
      "execution_count": 19,
      "metadata": {
        "id": "GHwIuSntEbhd",
        "outputId": "3d3c076b-b91c-40a0-dced-91769cc6b734",
        "colab": {
          "base_uri": "https://localhost:8080/"
        }
      },
      "outputs": [
        {
          "output_type": "stream",
          "name": "stdout",
          "text": [
            "[[1 0 0]\n",
            " [0 1 0]\n",
            " [0 0 1]]\n"
          ]
        }
      ],
      "source": [
        "print(np.eye(3, dtype = 'int' )) #default datatype is float"
      ]
    },
    {
      "cell_type": "markdown",
      "metadata": {
        "id": "2fEE-SCAEbhd"
      },
      "source": [
        "#### 12. Create a 3x3x3 array with random values (★☆☆) \n",
        "(**hint**: np.random.random)"
      ]
    },
    {
      "cell_type": "code",
      "execution_count": 20,
      "metadata": {
        "collapsed": true,
        "id": "r8aEQDXAEbhd",
        "outputId": "03e7669c-7c27-481d-8620-acc777a17c7b",
        "colab": {
          "base_uri": "https://localhost:8080/"
        }
      },
      "outputs": [
        {
          "output_type": "stream",
          "name": "stdout",
          "text": [
            "[[[0.59898997 0.66045286 0.84469097]\n",
            "  [0.86991699 0.95991891 0.01912609]\n",
            "  [0.28738909 0.89562136 0.8023728 ]]\n",
            "\n",
            " [[0.94970377 0.30955553 0.98667292]\n",
            "  [0.57844032 0.83437783 0.84541566]\n",
            "  [0.69481874 0.31289528 0.80385705]]\n",
            "\n",
            " [[0.4909634  0.06793077 0.27319918]\n",
            "  [0.36898865 0.92905264 0.19914591]\n",
            "  [0.64729443 0.31798758 0.24825672]]]\n"
          ]
        }
      ],
      "source": [
        "print(np.random.random((3,3,3)))"
      ]
    },
    {
      "cell_type": "markdown",
      "metadata": {
        "id": "cJGEuCjNEbhd"
      },
      "source": [
        "#### 13. Create a 10x10 array with random values and find the minimum and maximum values (★☆☆) \n",
        "(**hint**: min, max)"
      ]
    },
    {
      "cell_type": "code",
      "execution_count": 21,
      "metadata": {
        "id": "P9XIZTR2Ebhe"
      },
      "outputs": [],
      "source": [
        "a = np.random.random((10,10))"
      ]
    },
    {
      "cell_type": "code",
      "source": [
        "print(a)"
      ],
      "metadata": {
        "id": "5IDYFcdsPODh",
        "outputId": "32cbb7d2-c6e9-487c-fbe7-4d56e1495ec1",
        "colab": {
          "base_uri": "https://localhost:8080/"
        }
      },
      "execution_count": 22,
      "outputs": [
        {
          "output_type": "stream",
          "name": "stdout",
          "text": [
            "[[0.20343837 0.98896518 0.2171664  0.92361999 0.26677137 0.50169371\n",
            "  0.59231294 0.34886059 0.91753739 0.52401099]\n",
            " [0.00671885 0.43492962 0.18562297 0.3739383  0.482852   0.77010065\n",
            "  0.33918614 0.94429441 0.68385474 0.64166436]\n",
            " [0.10037368 0.3656001  0.26424658 0.52606134 0.14179048 0.41718345\n",
            "  0.31812563 0.14907792 0.0936925  0.66096145]\n",
            " [0.99742944 0.72444176 0.4729411  0.57952772 0.67434786 0.44948769\n",
            "  0.32085888 0.55745712 0.55522663 0.27205106]\n",
            " [0.32714886 0.57320273 0.86654312 0.03723982 0.268753   0.91830952\n",
            "  0.04901127 0.45282331 0.76808055 0.80333923]\n",
            " [0.76502827 0.00278043 0.10017044 0.63515161 0.78586564 0.94362411\n",
            "  0.01551655 0.52679578 0.21719158 0.13503293]\n",
            " [0.90768919 0.52309103 0.55669088 0.45627823 0.14530243 0.88545416\n",
            "  0.65439993 0.51428918 0.59365935 0.83248848]\n",
            " [0.34107014 0.39071814 0.04263826 0.20993459 0.90867029 0.43836822\n",
            "  0.15719297 0.61093861 0.59652185 0.68705013]\n",
            " [0.05040409 0.33028308 0.89751575 0.12731379 0.4798614  0.38623885\n",
            "  0.62772153 0.96266732 0.08586926 0.70194727]\n",
            " [0.24165506 0.01033856 0.71784537 0.5770551  0.62960502 0.28777264\n",
            "  0.88775695 0.25086354 0.1495686  0.55854102]]\n"
          ]
        }
      ]
    },
    {
      "cell_type": "code",
      "source": [
        "print(np.min(a))"
      ],
      "metadata": {
        "id": "FPLOfnyUPXr_",
        "outputId": "1ebcbc40-bf19-42f5-9aee-053924ca269d",
        "colab": {
          "base_uri": "https://localhost:8080/"
        }
      },
      "execution_count": 23,
      "outputs": [
        {
          "output_type": "stream",
          "name": "stdout",
          "text": [
            "0.002780428635348886\n"
          ]
        }
      ]
    },
    {
      "cell_type": "code",
      "source": [
        "print(np.max(a))"
      ],
      "metadata": {
        "id": "tVERFMzyPaGJ",
        "outputId": "4e1b398b-d3c8-417d-90b8-f1f2c28d9407",
        "colab": {
          "base_uri": "https://localhost:8080/"
        }
      },
      "execution_count": 24,
      "outputs": [
        {
          "output_type": "stream",
          "name": "stdout",
          "text": [
            "0.997429443965611\n"
          ]
        }
      ]
    },
    {
      "cell_type": "markdown",
      "metadata": {
        "id": "Weleul59Ebhe"
      },
      "source": [
        "#### 14. Create a random vector of size 30 and find the mean value (★☆☆) \n",
        "(**hint**: mean)"
      ]
    },
    {
      "cell_type": "code",
      "execution_count": 25,
      "metadata": {
        "id": "oM-fK4BfEbhe"
      },
      "outputs": [],
      "source": [
        "rand_vect = np.random.random((30))"
      ]
    },
    {
      "cell_type": "code",
      "source": [
        "print(rand_vect)"
      ],
      "metadata": {
        "id": "ewa728ROQD4V",
        "outputId": "75aa0313-c83b-4415-a471-db34244304be",
        "colab": {
          "base_uri": "https://localhost:8080/"
        }
      },
      "execution_count": 26,
      "outputs": [
        {
          "output_type": "stream",
          "name": "stdout",
          "text": [
            "[0.40307565 0.270324   0.02884106 0.08797989 0.12164313 0.52654117\n",
            " 0.34434294 0.46795001 0.84923753 0.80181268 0.29776862 0.84623053\n",
            " 0.96596776 0.54205936 0.67036924 0.73915311 0.96973594 0.26761372\n",
            " 0.93600946 0.11159937 0.34928632 0.26477676 0.28504139 0.66885526\n",
            " 0.69981286 0.74486331 0.10381722 0.28423718 0.52985055 0.88519552]\n"
          ]
        }
      ]
    },
    {
      "cell_type": "code",
      "source": [
        "print(np.mean(rand_vect))"
      ],
      "metadata": {
        "id": "rRH16nhCQKyg",
        "outputId": "2d84a484-9e37-4375-be42-068a9a28d413",
        "colab": {
          "base_uri": "https://localhost:8080/"
        }
      },
      "execution_count": 27,
      "outputs": [
        {
          "output_type": "stream",
          "name": "stdout",
          "text": [
            "0.5021330518323168\n"
          ]
        }
      ]
    },
    {
      "cell_type": "markdown",
      "metadata": {
        "id": "RPYBU0qHEbhe"
      },
      "source": [
        "#### 15. Create a 2d array with 1 on the border and 0 inside (★☆☆) \n",
        "(**hint**: array\\[1:-1, 1:-1\\])"
      ]
    },
    {
      "cell_type": "code",
      "execution_count": 28,
      "metadata": {
        "id": "u65BrOaOEbhf"
      },
      "outputs": [],
      "source": [
        "twod_array = np.ones((5,5),dtype='int')"
      ]
    },
    {
      "cell_type": "code",
      "source": [
        "twod_array[1:-1,1:-1] = 0\n",
        "print(twod_array)"
      ],
      "metadata": {
        "id": "maqZZt9BQ8ft",
        "colab": {
          "base_uri": "https://localhost:8080/"
        },
        "outputId": "967d8556-c662-4413-bf73-cda1f573f736"
      },
      "execution_count": 146,
      "outputs": [
        {
          "output_type": "stream",
          "name": "stdout",
          "text": [
            "[[1 1 1 1 1]\n",
            " [1 0 0 0 1]\n",
            " [1 0 0 0 1]\n",
            " [1 0 0 0 1]\n",
            " [1 1 1 1 1]]\n"
          ]
        }
      ]
    },
    {
      "cell_type": "markdown",
      "metadata": {
        "id": "b2ApBRn4Ebhf"
      },
      "source": [
        "#### 16. How to add a border (filled with 0's) around an existing array? (★☆☆) \n",
        "(**hint**: np.pad)"
      ]
    },
    {
      "cell_type": "code",
      "execution_count": 32,
      "metadata": {
        "id": "9vIq3ebFEbhg"
      },
      "outputs": [],
      "source": [
        "existing_array = np.ones((3,3), dtype = 'int')"
      ]
    },
    {
      "cell_type": "code",
      "source": [
        "print(existing_array)"
      ],
      "metadata": {
        "id": "v7_Ehe53R0cd",
        "outputId": "c12093d1-2c76-421f-9ac2-982c8f166528",
        "colab": {
          "base_uri": "https://localhost:8080/"
        }
      },
      "execution_count": 33,
      "outputs": [
        {
          "output_type": "stream",
          "name": "stdout",
          "text": [
            "[[1 1 1]\n",
            " [1 1 1]\n",
            " [1 1 1]]\n"
          ]
        }
      ]
    },
    {
      "cell_type": "code",
      "source": [
        "print(np.pad(existing_array, pad_width=1, mode='constant'))"
      ],
      "metadata": {
        "id": "Wus2EZXWUExc",
        "outputId": "7d1b5a73-e026-4960-8787-4852746943e1",
        "colab": {
          "base_uri": "https://localhost:8080/"
        }
      },
      "execution_count": 34,
      "outputs": [
        {
          "output_type": "stream",
          "name": "stdout",
          "text": [
            "[[0 0 0 0 0]\n",
            " [0 1 1 1 0]\n",
            " [0 1 1 1 0]\n",
            " [0 1 1 1 0]\n",
            " [0 0 0 0 0]]\n"
          ]
        }
      ]
    },
    {
      "cell_type": "markdown",
      "metadata": {
        "id": "eB_xyqUNEbhg"
      },
      "source": [
        "#### 17. What is the result of the following expression? \n",
        "\n",
        "\n",
        "(**hint**: NaN = not a number, inf = infinity)"
      ]
    },
    {
      "cell_type": "markdown",
      "metadata": {
        "id": "zW2b3Q0CEbhi"
      },
      "source": [
        "```python\n",
        "0 * np.nan\n",
        "np.nan == np.nan\n",
        "np.inf > np.nan\n",
        "np.nan - np.nan\n",
        "0.3 == 3 * 0.1\n",
        "```"
      ]
    },
    {
      "cell_type": "code",
      "execution_count": 35,
      "metadata": {
        "id": "QoxtKXJfEbhj",
        "colab": {
          "base_uri": "https://localhost:8080/"
        },
        "outputId": "4a03908c-450b-43bd-b3d3-ab97334c1e00"
      },
      "outputs": [
        {
          "output_type": "stream",
          "name": "stdout",
          "text": [
            "nan\n",
            "False\n",
            "False\n",
            "nan\n",
            "False\n"
          ]
        }
      ],
      "source": [
        "print(0 * np.nan)\n",
        "print(np.nan == np.nan)\n",
        "print(np.inf > np.nan)\n",
        "print(np.nan - np.nan)\n",
        "print(0.3 == 3 * 0.1)"
      ]
    },
    {
      "cell_type": "markdown",
      "metadata": {
        "id": "tkzKNAuqEbhj"
      },
      "source": [
        "#### 18. Create a 5x5 matrix with values 1,2,3,4 just below the diagonal (★☆☆) \n",
        "(**hint**: np.diag)"
      ]
    },
    {
      "cell_type": "code",
      "execution_count": 36,
      "metadata": {
        "id": "qIJfSeViEbhk"
      },
      "outputs": [],
      "source": [
        "dd_array = np.diag(np.arange(1,5), k = -1)"
      ]
    },
    {
      "cell_type": "code",
      "source": [
        "print(dd_array)"
      ],
      "metadata": {
        "id": "Vd9Voo3MXOcu",
        "outputId": "9752ede6-ff6b-4ffd-8add-a87f052ba979",
        "colab": {
          "base_uri": "https://localhost:8080/"
        }
      },
      "execution_count": 37,
      "outputs": [
        {
          "output_type": "stream",
          "name": "stdout",
          "text": [
            "[[0 0 0 0 0]\n",
            " [1 0 0 0 0]\n",
            " [0 2 0 0 0]\n",
            " [0 0 3 0 0]\n",
            " [0 0 0 4 0]]\n"
          ]
        }
      ]
    },
    {
      "cell_type": "markdown",
      "metadata": {
        "id": "FuUsWr-TEbhl"
      },
      "source": [
        "#### 19. Create a 8x8 matrix and fill it with a checkerboard pattern (★☆☆) \n",
        "(**hint**: array\\[::2\\])"
      ]
    },
    {
      "cell_type": "code",
      "execution_count": 38,
      "metadata": {
        "id": "IDPwqac0Ebhm"
      },
      "outputs": [],
      "source": [
        "checkboard = np.ones((8,8), dtype='int')"
      ]
    },
    {
      "cell_type": "code",
      "source": [
        "checkboard[::2, ::2] = 0"
      ],
      "metadata": {
        "id": "KXAb0w2aXjX3"
      },
      "execution_count": 39,
      "outputs": []
    },
    {
      "cell_type": "code",
      "source": [
        "checkboard[1::2, 1::2] = 0"
      ],
      "metadata": {
        "id": "m7BVmRr4Yarr"
      },
      "execution_count": 40,
      "outputs": []
    },
    {
      "cell_type": "code",
      "source": [
        "print(checkboard)"
      ],
      "metadata": {
        "id": "o5cY6n_QYg99",
        "outputId": "51035261-1007-4184-eb3d-ea2acb5d4ff2",
        "colab": {
          "base_uri": "https://localhost:8080/"
        }
      },
      "execution_count": 41,
      "outputs": [
        {
          "output_type": "stream",
          "name": "stdout",
          "text": [
            "[[0 1 0 1 0 1 0 1]\n",
            " [1 0 1 0 1 0 1 0]\n",
            " [0 1 0 1 0 1 0 1]\n",
            " [1 0 1 0 1 0 1 0]\n",
            " [0 1 0 1 0 1 0 1]\n",
            " [1 0 1 0 1 0 1 0]\n",
            " [0 1 0 1 0 1 0 1]\n",
            " [1 0 1 0 1 0 1 0]]\n"
          ]
        }
      ]
    },
    {
      "cell_type": "markdown",
      "metadata": {
        "id": "ecv3uU6eEbhn"
      },
      "source": [
        "#### 20. Consider a (6,7,8) shape array, what is the index (x,y,z) of the 100th element? \n",
        "(**hint**: np.unravel_index)"
      ]
    },
    {
      "cell_type": "code",
      "execution_count": 42,
      "metadata": {
        "id": "gDRyGyorEbhn",
        "colab": {
          "base_uri": "https://localhost:8080/"
        },
        "outputId": "ace286b3-3b3d-4c6f-d2bc-3f77149052c2"
      },
      "outputs": [
        {
          "output_type": "stream",
          "name": "stdout",
          "text": [
            "(1, 5, 4)\n"
          ]
        }
      ],
      "source": [
        "print (np.unravel_index(100, (6,7,8)))"
      ]
    },
    {
      "cell_type": "markdown",
      "metadata": {
        "id": "xif8_EgdEbho"
      },
      "source": [
        "#### 21. Create a checkerboard 8x8 matrix using the tile function (★☆☆) \n",
        "(**hint**: np.tile)"
      ]
    },
    {
      "cell_type": "code",
      "execution_count": 43,
      "metadata": {
        "id": "9d6wa-syEbhp",
        "colab": {
          "base_uri": "https://localhost:8080/"
        },
        "outputId": "f36b0b83-2e72-4b3b-da12-9285d651f609"
      },
      "outputs": [
        {
          "output_type": "stream",
          "name": "stdout",
          "text": [
            "[[0 1 0 1 0 1 0 1]\n",
            " [1 0 1 0 1 0 1 0]\n",
            " [0 1 0 1 0 1 0 1]\n",
            " [1 0 1 0 1 0 1 0]\n",
            " [0 1 0 1 0 1 0 1]\n",
            " [1 0 1 0 1 0 1 0]\n",
            " [0 1 0 1 0 1 0 1]\n",
            " [1 0 1 0 1 0 1 0]]\n"
          ]
        }
      ],
      "source": [
        "array= np.array([[0,1], [1,0]])\n",
        "print(np.tile(array,(4,4)))"
      ]
    },
    {
      "cell_type": "markdown",
      "metadata": {
        "id": "87U3AzciEbhq"
      },
      "source": [
        "#### 22. Normalize a 5x5 random matrix (★☆☆) \n",
        "(**hint**: (x - min) / (max - min))"
      ]
    },
    {
      "cell_type": "code",
      "execution_count": 44,
      "metadata": {
        "id": "Ry3LgTiREbhr",
        "colab": {
          "base_uri": "https://localhost:8080/"
        },
        "outputId": "87ac0579-d942-40ad-c4c9-c914cb2d61c9"
      },
      "outputs": [
        {
          "output_type": "stream",
          "name": "stdout",
          "text": [
            "[[0.28076108 0.30308097 0.09338815 0.41741325 0.80342913]\n",
            " [0.96715748 0.92798935 0.43940659 0.79544315 0.85186969]\n",
            " [0.         0.73660619 0.15427111 0.42458089 0.75096011]\n",
            " [0.94989395 0.50322553 0.162333   1.         0.80368924]\n",
            " [0.96093698 0.87768171 0.70883063 0.82361197 0.75635604]]\n"
          ]
        }
      ],
      "source": [
        "normalize = np.random.random((5,5))\n",
        "min = normalize.min()\n",
        "max = normalize.max()\n",
        "print((normalize-min)/(max - min))"
      ]
    },
    {
      "cell_type": "markdown",
      "metadata": {
        "id": "NZWwaBQ1Ebhr"
      },
      "source": [
        "#### 23. Create a custom dtype that describes a color as four unsigned bytes (RGBA) (★☆☆) \n",
        "(**hint**: np.dtype)"
      ]
    },
    {
      "cell_type": "code",
      "execution_count": 45,
      "metadata": {
        "collapsed": true,
        "id": "kZdblEGvEbhs",
        "colab": {
          "base_uri": "https://localhost:8080/"
        },
        "outputId": "cfb42518-d3f2-454b-ad12-2cb01b229d11"
      },
      "outputs": [
        {
          "output_type": "execute_result",
          "data": {
            "text/plain": [
              "dtype([('r', 'u1'), ('g', 'u1'), ('b', 'u1'), ('a', 'u1')])"
            ]
          },
          "metadata": {},
          "execution_count": 45
        }
      ],
      "source": [
        "color = np.dtype([(\"r\", np.ubyte),\n",
        "                  (\"g\", np.ubyte),\n",
        "                  (\"b\", np.ubyte),\n",
        "                  (\"a\", np.ubyte)])\n",
        "color"
      ]
    },
    {
      "cell_type": "markdown",
      "metadata": {
        "id": "C7HlfE7pEbhs"
      },
      "source": [
        "#### 24. Multiply a 5x3 matrix by a 3x2 matrix (real matrix product) (★☆☆) \n",
        "(**hint**: np.dot | @)"
      ]
    },
    {
      "cell_type": "code",
      "execution_count": 46,
      "metadata": {
        "id": "JDKkBJyVEbhs",
        "colab": {
          "base_uri": "https://localhost:8080/"
        },
        "outputId": "6bb4d3f7-7f4d-40dd-8e74-7c4093a075de"
      },
      "outputs": [
        {
          "output_type": "stream",
          "name": "stdout",
          "text": [
            "[[3 3]\n",
            " [3 3]\n",
            " [3 3]\n",
            " [3 3]\n",
            " [3 3]]\n"
          ]
        }
      ],
      "source": [
        "a= np.dot(np.ones((5,3),dtype='int'), np.ones((3,2),dtype='int'))\n",
        "print (a)"
      ]
    },
    {
      "cell_type": "markdown",
      "metadata": {
        "id": "UeA09r3DEbhs"
      },
      "source": [
        "#### 25. Given a 1D array, negate all elements which are between 3 and 8, in place. (★☆☆) \n",
        "(**hint**: >, <=)"
      ]
    },
    {
      "cell_type": "code",
      "execution_count": 47,
      "metadata": {
        "id": "robVjkMIEbhs",
        "colab": {
          "base_uri": "https://localhost:8080/"
        },
        "outputId": "b0ad6e2d-27a7-458f-fb1b-2a2ca153442f"
      },
      "outputs": [
        {
          "output_type": "stream",
          "name": "stdout",
          "text": [
            "[ 0  1  2  3 -4 -5 -6 -7  8  9 10]\n"
          ]
        }
      ],
      "source": [
        "Z = np.arange(11)\n",
        "Z[(3 < Z) & (Z < 8)] *= -1\n",
        "print(Z)"
      ]
    },
    {
      "cell_type": "markdown",
      "metadata": {
        "id": "07eIrJVIEbht"
      },
      "source": [
        "#### 26. What is the output of the following script? (★☆☆) \n",
        "(**hint**: np.sum)"
      ]
    },
    {
      "cell_type": "markdown",
      "metadata": {
        "id": "UqB57trkEbht"
      },
      "source": [
        "```python\n",
        "# Author: Jake VanderPlas\n",
        "\n",
        "print(sum(range(5),-1))\n",
        "from numpy import *\n",
        "print(sum(range(5),-1))\n",
        "```"
      ]
    },
    {
      "cell_type": "code",
      "execution_count": 48,
      "metadata": {
        "id": "_HY8xMDyEbht",
        "colab": {
          "base_uri": "https://localhost:8080/"
        },
        "outputId": "1ab2c77b-195b-449d-dcb4-f5be3945a210"
      },
      "outputs": [
        {
          "output_type": "stream",
          "name": "stdout",
          "text": [
            "9\n",
            "10\n"
          ]
        }
      ],
      "source": [
        "print(sum(range(5),-1))\n",
        "from numpy import *\n",
        "print(sum(range(5),-1))"
      ]
    },
    {
      "cell_type": "markdown",
      "metadata": {
        "id": "n5aseU0ZEbht"
      },
      "source": [
        "#### 27. Consider an integer vector Z, which of these expressions are legal? (★☆☆)"
      ]
    },
    {
      "cell_type": "markdown",
      "metadata": {
        "id": "XcboajGkEbhu"
      },
      "source": [
        "```python\n",
        "Z**Z\n",
        "2 << Z >> 2\n",
        "Z <- Z\n",
        "1j*Z\n",
        "Z/1/1\n",
        "Z<Z>Z\n",
        "```"
      ]
    },
    {
      "cell_type": "code",
      "execution_count": 49,
      "metadata": {
        "id": "VVv3xqUFEbhu",
        "colab": {
          "base_uri": "https://localhost:8080/"
        },
        "outputId": "f4b38324-da98-448a-d16a-4028f412fd23"
      },
      "outputs": [
        {
          "output_type": "stream",
          "name": "stdout",
          "text": [
            "[   1    1    4   27  256 3125]\n",
            "[ 0  1  2  4  8 16]\n",
            "[False False False False False False]\n",
            "[0.+0.j 0.+1.j 0.+2.j 0.+3.j 0.+4.j 0.+5.j]\n",
            "[0. 1. 2. 3. 4. 5.]\n"
          ]
        }
      ],
      "source": [
        "Z = np.array([0,1,2,3,4,5])\n",
        "print(Z**Z)\n",
        "print(2<< Z >>2)\n",
        "print(Z<- Z)\n",
        "print(1j*Z)\n",
        "print(Z/1/1)\n",
        "#print(Z<Z>Z)---error"
      ]
    },
    {
      "cell_type": "markdown",
      "metadata": {
        "id": "CDggAtI0Ebhu"
      },
      "source": [
        "#### 28. What are the result of the following expressions?"
      ]
    },
    {
      "cell_type": "markdown",
      "metadata": {
        "id": "lvnMPRDmEbhu"
      },
      "source": [
        "```python\n",
        "np.array(0) / np.array(0)\n",
        "np.array(0) // np.array(0)\n",
        "np.array([np.nan]).astype(int).astype(float)\n",
        "```"
      ]
    },
    {
      "cell_type": "code",
      "execution_count": 50,
      "metadata": {
        "id": "FNI3zXKHEbhv",
        "colab": {
          "base_uri": "https://localhost:8080/"
        },
        "outputId": "ca7ccdeb-9b69-43a5-b161-3e55e51b9f1c"
      },
      "outputs": [
        {
          "output_type": "stream",
          "name": "stdout",
          "text": [
            "nan\n",
            "0\n",
            "[-9.22337204e+18]\n"
          ]
        },
        {
          "output_type": "stream",
          "name": "stderr",
          "text": [
            "/usr/local/lib/python3.7/dist-packages/ipykernel_launcher.py:1: RuntimeWarning: invalid value encountered in true_divide\n",
            "  \"\"\"Entry point for launching an IPython kernel.\n",
            "/usr/local/lib/python3.7/dist-packages/ipykernel_launcher.py:2: RuntimeWarning: divide by zero encountered in floor_divide\n",
            "  \n"
          ]
        }
      ],
      "source": [
        "print(np.array(0) / np.array(0))\n",
        "print(np.array(0) // np.array(0))\n",
        "print(np.array([np.nan]).astype(int).astype(float))"
      ]
    },
    {
      "cell_type": "markdown",
      "metadata": {
        "id": "H1o_j9gBEbhv"
      },
      "source": [
        "#### 29. How to round away from zero a float array ? (★☆☆) \n",
        "(**hint**: np.uniform, np.copysign, np.ceil, np.abs)"
      ]
    },
    {
      "cell_type": "code",
      "execution_count": 51,
      "metadata": {
        "id": "BB-Fgdu5Ebhv",
        "colab": {
          "base_uri": "https://localhost:8080/"
        },
        "outputId": "54c8b5f7-edb1-40f8-d52a-99ff55504dee"
      },
      "outputs": [
        {
          "output_type": "execute_result",
          "data": {
            "text/plain": [
              "array([ 1.,  1., -0.,  1., -0.])"
            ]
          },
          "metadata": {},
          "execution_count": 51
        }
      ],
      "source": [
        "s = np.random.uniform(-1,1,5)\n",
        "# print(np.copysign(s,+1))\n",
        "np.ceil(s)\n",
        "# np.abs(s)"
      ]
    },
    {
      "cell_type": "markdown",
      "metadata": {
        "id": "it-jhmA-Ebhv"
      },
      "source": [
        "#### 30. How to find common values between two arrays? (★☆☆) \n",
        "(**hint**: np.intersect1d)"
      ]
    },
    {
      "cell_type": "code",
      "execution_count": 52,
      "metadata": {
        "id": "FQhvqCGFEbhw",
        "colab": {
          "base_uri": "https://localhost:8080/"
        },
        "outputId": "62204c26-c612-46fc-bb53-7465dd217393"
      },
      "outputs": [
        {
          "output_type": "stream",
          "name": "stdout",
          "text": [
            "[0 2 6 9]\n"
          ]
        }
      ],
      "source": [
        "Z1 = np.random.randint(0,10,10)\n",
        "Z2 = np.random.randint(0,10,10)\n",
        "print(np.intersect1d(Z1,Z2))"
      ]
    },
    {
      "cell_type": "markdown",
      "metadata": {
        "id": "5QZf4HDsEbhw"
      },
      "source": [
        "#### 31. How to ignore all numpy warnings (not recommended)? (★☆☆) \n",
        "(**hint**: np.seterr, np.errstate)"
      ]
    },
    {
      "cell_type": "code",
      "execution_count": 53,
      "metadata": {
        "id": "0x5_fWLGEbhw",
        "colab": {
          "base_uri": "https://localhost:8080/"
        },
        "outputId": "9196b5ad-c774-4d90-bbe9-bc178387dee5"
      },
      "outputs": [
        {
          "output_type": "stream",
          "name": "stdout",
          "text": [
            "{'divide': 'warn', 'over': 'warn', 'under': 'ignore', 'invalid': 'warn'}\n",
            "<numpy.errstate object at 0x7f3683efd5d0>\n"
          ]
        }
      ],
      "source": [
        "print(np.seterr())\n",
        "print(np.errstate())"
      ]
    },
    {
      "cell_type": "markdown",
      "metadata": {
        "id": "MPrAS_g8Ebhw"
      },
      "source": [
        "#### 32. Is the following expressions true? (★☆☆) \n",
        "(**hint**: imaginary number)"
      ]
    },
    {
      "cell_type": "markdown",
      "metadata": {
        "id": "_LAK8aUREbhx"
      },
      "source": [
        "```python\n",
        "np.sqrt(-1) == np.emath.sqrt(-1)\n",
        "```"
      ]
    },
    {
      "cell_type": "code",
      "execution_count": 54,
      "metadata": {
        "id": "S8jhOa5vEbhy",
        "colab": {
          "base_uri": "https://localhost:8080/"
        },
        "outputId": "77d3d476-5c07-486f-de57-9c9f76202a1f"
      },
      "outputs": [
        {
          "output_type": "stream",
          "name": "stdout",
          "text": [
            "False\n"
          ]
        },
        {
          "output_type": "stream",
          "name": "stderr",
          "text": [
            "/usr/local/lib/python3.7/dist-packages/ipykernel_launcher.py:1: RuntimeWarning: invalid value encountered in sqrt\n",
            "  \"\"\"Entry point for launching an IPython kernel.\n"
          ]
        }
      ],
      "source": [
        "print(np.sqrt(-1) == np.emath.sqrt(-1))"
      ]
    },
    {
      "cell_type": "markdown",
      "metadata": {
        "id": "N17lodkJEbhz"
      },
      "source": [
        "#### 33. How to get the dates of yesterday, today and tomorrow? (★☆☆) \n",
        "(**hint**: np.datetime64, np.timedelta64)"
      ]
    },
    {
      "cell_type": "code",
      "execution_count": 55,
      "metadata": {
        "collapsed": true,
        "id": "vO8W1Z6AEbhz",
        "colab": {
          "base_uri": "https://localhost:8080/"
        },
        "outputId": "ffd27b43-00b4-4b50-fe5c-1810d905142f"
      },
      "outputs": [
        {
          "output_type": "stream",
          "name": "stdout",
          "text": [
            "Yestraday:  2022-05-13\n",
            "Today:  2022-05-14\n",
            "Tomorrow:  2022-05-15\n"
          ]
        }
      ],
      "source": [
        "ystrd = np.datetime64('today', 'D') - np.timedelta64(1, 'D')\n",
        "print(\"Yestraday: \",ystrd)\n",
        "tdy = np.datetime64('today', 'D')\n",
        "print(\"Today: \",tdy)\n",
        "tmrw  = np.datetime64('today', 'D') + np.timedelta64(1, 'D')\n",
        "print(\"Tomorrow: \",tmrw)"
      ]
    },
    {
      "cell_type": "markdown",
      "metadata": {
        "id": "337PrMueEbhz"
      },
      "source": [
        "#### 34. How to get all the dates corresponding to the month of July 2016? (★★☆) \n",
        "(**hint**: np.arange(dtype=datetime64\\['D'\\]))"
      ]
    },
    {
      "cell_type": "code",
      "execution_count": 56,
      "metadata": {
        "id": "iUjacsArEbh0",
        "colab": {
          "base_uri": "https://localhost:8080/"
        },
        "outputId": "772ef3a0-b53e-4058-a2d1-446c96b5328f"
      },
      "outputs": [
        {
          "output_type": "stream",
          "name": "stdout",
          "text": [
            "['2016-07-01' '2016-07-02' '2016-07-03' '2016-07-04' '2016-07-05'\n",
            " '2016-07-06' '2016-07-07' '2016-07-08' '2016-07-09' '2016-07-10'\n",
            " '2016-07-11' '2016-07-12' '2016-07-13' '2016-07-14' '2016-07-15'\n",
            " '2016-07-16' '2016-07-17' '2016-07-18' '2016-07-19' '2016-07-20'\n",
            " '2016-07-21' '2016-07-22' '2016-07-23' '2016-07-24' '2016-07-25'\n",
            " '2016-07-26' '2016-07-27' '2016-07-28' '2016-07-29' '2016-07-30'\n",
            " '2016-07-31']\n"
          ]
        }
      ],
      "source": [
        "Z = np.arange('2016-07', '2016-08', dtype='datetime64[D]')\n",
        "print(Z)"
      ]
    },
    {
      "cell_type": "markdown",
      "metadata": {
        "id": "ZckLL1krEbh0"
      },
      "source": [
        "#### 35. How to compute ((A+B)\\*(-A/2)) in place (without copy)? (★★☆) \n",
        "(**hint**: np.add(out=), np.negative(out=), np.multiply(out=), np.divide(out=))"
      ]
    },
    {
      "cell_type": "code",
      "execution_count": 57,
      "metadata": {
        "id": "-WRzKz8oEbh0",
        "colab": {
          "base_uri": "https://localhost:8080/"
        },
        "outputId": "f19ee6ad-b867-4a07-ad49-e89adcbd1c11"
      },
      "outputs": [
        {
          "output_type": "execute_result",
          "data": {
            "text/plain": [
              "array([-1.5, -1.5, -1.5])"
            ]
          },
          "metadata": {},
          "execution_count": 57
        }
      ],
      "source": [
        "A = np.ones(3)*1\n",
        "B = np.ones(3)*2\n",
        "np.add(A,B,out=B)\n",
        "np.divide(A,2,out=A)\n",
        "np.negative(A,out=A)\n",
        "np.multiply(A,B,out=A)"
      ]
    },
    {
      "cell_type": "markdown",
      "metadata": {
        "id": "3EOheGLAEbh0"
      },
      "source": [
        "#### 36. Extract the integer part of a random array using 5 different methods (★★☆) \n",
        "(**hint**: %, np.floor, np.ceil, astype, np.trunc)"
      ]
    },
    {
      "cell_type": "code",
      "execution_count": 58,
      "metadata": {
        "id": "TdAc546FEbh1",
        "colab": {
          "base_uri": "https://localhost:8080/"
        },
        "outputId": "d28ce729-cab1-4a05-da4b-cb93e38745dd"
      },
      "outputs": [
        {
          "output_type": "stream",
          "name": "stdout",
          "text": [
            "[1.         1.11111111 1.22222222 1.33333333 1.44444444 1.55555556\n",
            " 1.66666667 1.77777778 1.88888889 2.        ]\n"
          ]
        }
      ],
      "source": [
        "Z = np.linspace(1,2,10)\n",
        "print(Z)"
      ]
    },
    {
      "cell_type": "code",
      "source": [
        "print(Z - Z%1)\n",
        "print(np.ceil(Z))\n",
        "print(np.floor(Z))\n",
        "print(Z.astype(int))\n",
        "print(np.trunc(Z))"
      ],
      "metadata": {
        "colab": {
          "base_uri": "https://localhost:8080/"
        },
        "id": "w-FDI8kpBkyJ",
        "outputId": "71727402-44a6-4435-bd82-216541a72c7b"
      },
      "execution_count": 59,
      "outputs": [
        {
          "output_type": "stream",
          "name": "stdout",
          "text": [
            "[1. 1. 1. 1. 1. 1. 1. 1. 1. 2.]\n",
            "[1. 2. 2. 2. 2. 2. 2. 2. 2. 2.]\n",
            "[1. 1. 1. 1. 1. 1. 1. 1. 1. 2.]\n",
            "[1 1 1 1 1 1 1 1 1 2]\n",
            "[1. 1. 1. 1. 1. 1. 1. 1. 1. 2.]\n"
          ]
        }
      ]
    },
    {
      "cell_type": "markdown",
      "metadata": {
        "id": "cOR0bvG5Ebh1"
      },
      "source": [
        "#### 37. Create a 5x5 matrix with row values ranging from 0 to 4 (★★☆) \n",
        "(**hint**: np.arange)"
      ]
    },
    {
      "cell_type": "code",
      "execution_count": 60,
      "metadata": {
        "id": "iJ-kRv1JEbh1"
      },
      "outputs": [],
      "source": [
        "arr1 = np.zeros((5,5))\n",
        "arr2 = np.arange(5)"
      ]
    },
    {
      "cell_type": "code",
      "source": [
        "print(arr1+arr2)"
      ],
      "metadata": {
        "colab": {
          "base_uri": "https://localhost:8080/"
        },
        "id": "ieHY0KdDU7KU",
        "outputId": "c54cf284-4b6c-47dc-a19e-d55188eb22c5"
      },
      "execution_count": 61,
      "outputs": [
        {
          "output_type": "stream",
          "name": "stdout",
          "text": [
            "[[0. 1. 2. 3. 4.]\n",
            " [0. 1. 2. 3. 4.]\n",
            " [0. 1. 2. 3. 4.]\n",
            " [0. 1. 2. 3. 4.]\n",
            " [0. 1. 2. 3. 4.]]\n"
          ]
        }
      ]
    },
    {
      "cell_type": "markdown",
      "metadata": {
        "id": "PWMVQoy3Ebh1"
      },
      "source": [
        "#### 38. Consider a generator function that generates 10 integers and use it to build an array (★☆☆) \n",
        "(**hint**: np.fromiter)"
      ]
    },
    {
      "cell_type": "code",
      "execution_count": 62,
      "metadata": {
        "id": "VzpBtLS-Ebh2",
        "colab": {
          "base_uri": "https://localhost:8080/"
        },
        "outputId": "b5fb15c5-1b66-4189-d81a-ab0845960bfe"
      },
      "outputs": [
        {
          "output_type": "stream",
          "name": "stdout",
          "text": [
            "[0 1 2 3 4 5 6 7 8 9]\n"
          ]
        }
      ],
      "source": [
        "def generate(): \n",
        "    for i in range(10):\n",
        "        yield i\n",
        "        \n",
        "Z = np.fromiter(generate(), dtype=int)\n",
        "print (Z)"
      ]
    },
    {
      "cell_type": "markdown",
      "metadata": {
        "id": "MX75KJg1Ebh2"
      },
      "source": [
        "#### 39. Create a vector of size 10 with values ranging from 0 to 1, both excluded (★★☆) \n",
        "(**hint**: np.linspace)"
      ]
    },
    {
      "cell_type": "code",
      "execution_count": 63,
      "metadata": {
        "id": "yswgFJlbEbh2",
        "colab": {
          "base_uri": "https://localhost:8080/"
        },
        "outputId": "5998c04f-5129-4007-c44f-12e279fda0f8"
      },
      "outputs": [
        {
          "output_type": "stream",
          "name": "stdout",
          "text": [
            "[0.09090909 0.18181818 0.27272727 0.36363636 0.45454545 0.54545455\n",
            " 0.63636364 0.72727273 0.81818182 0.90909091]\n"
          ]
        }
      ],
      "source": [
        "arrayy = np.linspace(0,1,12,endpoint=True)[1:-1]\n",
        "print(arrayy)"
      ]
    },
    {
      "cell_type": "markdown",
      "metadata": {
        "id": "qHJ18W02Ebh2"
      },
      "source": [
        "#### 40. Create a random vector of size 10 and sort it (★★☆) \n",
        "(**hint**: sort)"
      ]
    },
    {
      "cell_type": "code",
      "execution_count": 64,
      "metadata": {
        "id": "irS0jf1eEbh3"
      },
      "outputs": [],
      "source": [
        "rand_vector = np.random.random(10)"
      ]
    },
    {
      "cell_type": "code",
      "source": [
        "rand_vector.sort()"
      ],
      "metadata": {
        "id": "LZ3SS-zHWPbu"
      },
      "execution_count": 65,
      "outputs": []
    },
    {
      "cell_type": "code",
      "source": [
        "print(rand_vector)"
      ],
      "metadata": {
        "colab": {
          "base_uri": "https://localhost:8080/"
        },
        "id": "_npBGTwXWTx0",
        "outputId": "518d0ed8-9de4-4443-d438-9f50437f0003"
      },
      "execution_count": 66,
      "outputs": [
        {
          "output_type": "stream",
          "name": "stdout",
          "text": [
            "[0.03077105 0.16895542 0.20841367 0.26072014 0.2789912  0.36585636\n",
            " 0.53488211 0.57326149 0.75975434 0.92939434]\n"
          ]
        }
      ]
    },
    {
      "cell_type": "markdown",
      "metadata": {
        "id": "8lCxJNYMEbh3"
      },
      "source": [
        "#### 41. How to sum a small array faster than np.sum? (★★☆) \n",
        "(**hint**: np.add.reduce)"
      ]
    },
    {
      "cell_type": "code",
      "execution_count": 67,
      "metadata": {
        "id": "VyT4UJJnEbh3",
        "colab": {
          "base_uri": "https://localhost:8080/"
        },
        "outputId": "91209293-0646-468b-d9f0-bd7ee215a484"
      },
      "outputs": [
        {
          "output_type": "execute_result",
          "data": {
            "text/plain": [
              "45"
            ]
          },
          "metadata": {},
          "execution_count": 67
        }
      ],
      "source": [
        "Z = np.arange(10)\n",
        "np.add.reduce(Z)"
      ]
    },
    {
      "cell_type": "markdown",
      "metadata": {
        "id": "PzWe5LVEEbh3"
      },
      "source": [
        "#### 42. Consider two random array A and B, check if they are equal (★★☆) \n",
        "(**hint**: np.allclose, np.array\\_equal)"
      ]
    },
    {
      "cell_type": "code",
      "execution_count": 68,
      "metadata": {
        "id": "LlImhn0KEbh4",
        "colab": {
          "base_uri": "https://localhost:8080/"
        },
        "outputId": "ecd024db-c681-47a0-d618-4bb5e6b51798"
      },
      "outputs": [
        {
          "output_type": "stream",
          "name": "stdout",
          "text": [
            "False\n"
          ]
        },
        {
          "output_type": "execute_result",
          "data": {
            "text/plain": [
              "False"
            ]
          },
          "metadata": {},
          "execution_count": 68
        }
      ],
      "source": [
        "A = np.random.randint(0,2,5)\n",
        "B = np.random.randint(0,2,5)\n",
        "x = np.allclose(A,B)\n",
        "print(x)\n",
        "np.array_equal(A,B)"
      ]
    },
    {
      "cell_type": "markdown",
      "metadata": {
        "id": "sJPtHMFqEbh4"
      },
      "source": [
        "#### 43. Make an array immutable (read-only) (★★☆) \n",
        "(**hint**: flags.writeable)"
      ]
    },
    {
      "cell_type": "code",
      "execution_count": 151,
      "metadata": {
        "id": "iQ9h-WmHEbh4",
        "colab": {
          "base_uri": "https://localhost:8080/",
          "height": 235
        },
        "outputId": "c9787779-e3c1-4b3b-9bcf-fb5c663f0f64"
      },
      "outputs": [
        {
          "output_type": "stream",
          "name": "stdout",
          "text": [
            "[0 1 2 3 4 5 6 7 8 9]\n"
          ]
        },
        {
          "output_type": "error",
          "ename": "ValueError",
          "evalue": "ignored",
          "traceback": [
            "\u001b[0;31m---------------------------------------------------------------------------\u001b[0m",
            "\u001b[0;31mValueError\u001b[0m                                Traceback (most recent call last)",
            "\u001b[0;32m<ipython-input-151-28e9513471f5>\u001b[0m in \u001b[0;36m<module>\u001b[0;34m()\u001b[0m\n\u001b[1;32m      2\u001b[0m \u001b[0mprint\u001b[0m\u001b[0;34m(\u001b[0m\u001b[0mz\u001b[0m\u001b[0;34m)\u001b[0m\u001b[0;34m\u001b[0m\u001b[0;34m\u001b[0m\u001b[0m\n\u001b[1;32m      3\u001b[0m \u001b[0mz\u001b[0m\u001b[0;34m.\u001b[0m\u001b[0mflags\u001b[0m\u001b[0;34m.\u001b[0m\u001b[0mwriteable\u001b[0m\u001b[0;34m=\u001b[0m\u001b[0;32mFalse\u001b[0m\u001b[0;34m\u001b[0m\u001b[0;34m\u001b[0m\u001b[0m\n\u001b[0;32m----> 4\u001b[0;31m \u001b[0mz\u001b[0m\u001b[0;34m[\u001b[0m\u001b[0;36m2\u001b[0m\u001b[0;34m]\u001b[0m\u001b[0;34m=\u001b[0m\u001b[0;36m100\u001b[0m\u001b[0;34m\u001b[0m\u001b[0;34m\u001b[0m\u001b[0m\n\u001b[0m\u001b[1;32m      5\u001b[0m \u001b[0mz\u001b[0m\u001b[0;34m\u001b[0m\u001b[0;34m\u001b[0m\u001b[0m\n",
            "\u001b[0;31mValueError\u001b[0m: assignment destination is read-only"
          ]
        }
      ],
      "source": [
        "z=np.arange(0,10)\n",
        "print(z)\n",
        "z.flags.writeable=False\n",
        "z[2]=100\n",
        "z"
      ]
    },
    {
      "cell_type": "markdown",
      "metadata": {
        "id": "EOu0jLM6Ebh4"
      },
      "source": [
        "#### 44. Consider a random 10x2 matrix representing cartesian coordinates, convert them to polar coordinates (★★☆) \n",
        "(**hint**: np.sqrt, np.arctan2)"
      ]
    },
    {
      "cell_type": "code",
      "execution_count": 71,
      "metadata": {
        "id": "numHk7xXEbh4"
      },
      "outputs": [],
      "source": [
        "Z = np.random.random((10,2))"
      ]
    },
    {
      "cell_type": "code",
      "source": [
        "X,Y = Z[:,0], Z[:,1]"
      ],
      "metadata": {
        "id": "KGK5KBo_XtOL"
      },
      "execution_count": 72,
      "outputs": []
    },
    {
      "cell_type": "code",
      "source": [
        "R = np.sqrt(X**2+Y**2)"
      ],
      "metadata": {
        "id": "Ay9q3fwuXw9z"
      },
      "execution_count": 73,
      "outputs": []
    },
    {
      "cell_type": "code",
      "source": [
        "T = np.arctan2(Y,X)"
      ],
      "metadata": {
        "id": "rvFZoePWX0EC"
      },
      "execution_count": 74,
      "outputs": []
    },
    {
      "cell_type": "code",
      "source": [
        "print(R)\n",
        "print(T)"
      ],
      "metadata": {
        "colab": {
          "base_uri": "https://localhost:8080/"
        },
        "id": "oOBdfBawX2Hh",
        "outputId": "c2ad620b-da15-4478-84e3-e90dc5966ff4"
      },
      "execution_count": 75,
      "outputs": [
        {
          "output_type": "stream",
          "name": "stdout",
          "text": [
            "[0.47517697 0.83110426 0.93955564 1.06297375 0.81169068 0.42682196\n",
            " 0.98452452 0.26252235 1.05139076 1.19384312]\n",
            "[0.70146635 1.38709577 0.10712115 0.89259086 0.22863845 0.73715768\n",
            " 0.27497537 0.55076493 0.89214151 0.67534495]\n"
          ]
        }
      ]
    },
    {
      "cell_type": "markdown",
      "metadata": {
        "id": "gplHzd7tEbh5"
      },
      "source": [
        "#### 45. Create random vector of size 10 and replace the maximum value by 0 (★★☆) \n",
        "(**hint**: argmax)"
      ]
    },
    {
      "cell_type": "code",
      "execution_count": 76,
      "metadata": {
        "id": "qDtccbbCEbh5"
      },
      "outputs": [],
      "source": [
        "rand_vectorrr = np.random.random(10)"
      ]
    },
    {
      "cell_type": "code",
      "source": [
        "rand_vectorrr[rand_vectorrr.argmax()] = 0"
      ],
      "metadata": {
        "id": "xNwCtgTKYB7J"
      },
      "execution_count": 77,
      "outputs": []
    },
    {
      "cell_type": "code",
      "source": [
        "print(rand_vectorrr)"
      ],
      "metadata": {
        "colab": {
          "base_uri": "https://localhost:8080/"
        },
        "id": "AxRNZxrLYLSH",
        "outputId": "804182b1-8b0f-4d9d-c44d-ac03df09f953"
      },
      "execution_count": 78,
      "outputs": [
        {
          "output_type": "stream",
          "name": "stdout",
          "text": [
            "[0.43437305 0.58564027 0.60982016 0.00944753 0.5313469  0.31747622\n",
            " 0.3781002  0.63930169 0.1309147  0.        ]\n"
          ]
        }
      ]
    },
    {
      "cell_type": "markdown",
      "metadata": {
        "id": "68xAodi-Ebh5"
      },
      "source": [
        "#### 46. Create a structured array with `x` and `y` coordinates covering the \\[0,1\\]x\\[0,1\\] area (★★☆) \n",
        "(**hint**: np.meshgrid)"
      ]
    },
    {
      "cell_type": "code",
      "execution_count": 148,
      "metadata": {
        "id": "cpb6WcObEbh6",
        "colab": {
          "base_uri": "https://localhost:8080/"
        },
        "outputId": "c19a086b-da22-466c-cf79-3ac39c43235a"
      },
      "outputs": [
        {
          "output_type": "execute_result",
          "data": {
            "text/plain": [
              "array([[(0.        , 0.        ), (0.11111111, 0.        ),\n",
              "        (0.22222222, 0.        ), (0.33333333, 0.        ),\n",
              "        (0.44444444, 0.        ), (0.55555556, 0.        ),\n",
              "        (0.66666667, 0.        ), (0.77777778, 0.        ),\n",
              "        (0.88888889, 0.        ), (1.        , 0.        )],\n",
              "       [(0.        , 0.11111111), (0.11111111, 0.11111111),\n",
              "        (0.22222222, 0.11111111), (0.33333333, 0.11111111),\n",
              "        (0.44444444, 0.11111111), (0.55555556, 0.11111111),\n",
              "        (0.66666667, 0.11111111), (0.77777778, 0.11111111),\n",
              "        (0.88888889, 0.11111111), (1.        , 0.11111111)],\n",
              "       [(0.        , 0.22222222), (0.11111111, 0.22222222),\n",
              "        (0.22222222, 0.22222222), (0.33333333, 0.22222222),\n",
              "        (0.44444444, 0.22222222), (0.55555556, 0.22222222),\n",
              "        (0.66666667, 0.22222222), (0.77777778, 0.22222222),\n",
              "        (0.88888889, 0.22222222), (1.        , 0.22222222)],\n",
              "       [(0.        , 0.33333333), (0.11111111, 0.33333333),\n",
              "        (0.22222222, 0.33333333), (0.33333333, 0.33333333),\n",
              "        (0.44444444, 0.33333333), (0.55555556, 0.33333333),\n",
              "        (0.66666667, 0.33333333), (0.77777778, 0.33333333),\n",
              "        (0.88888889, 0.33333333), (1.        , 0.33333333)],\n",
              "       [(0.        , 0.44444444), (0.11111111, 0.44444444),\n",
              "        (0.22222222, 0.44444444), (0.33333333, 0.44444444),\n",
              "        (0.44444444, 0.44444444), (0.55555556, 0.44444444),\n",
              "        (0.66666667, 0.44444444), (0.77777778, 0.44444444),\n",
              "        (0.88888889, 0.44444444), (1.        , 0.44444444)],\n",
              "       [(0.        , 0.55555556), (0.11111111, 0.55555556),\n",
              "        (0.22222222, 0.55555556), (0.33333333, 0.55555556),\n",
              "        (0.44444444, 0.55555556), (0.55555556, 0.55555556),\n",
              "        (0.66666667, 0.55555556), (0.77777778, 0.55555556),\n",
              "        (0.88888889, 0.55555556), (1.        , 0.55555556)],\n",
              "       [(0.        , 0.66666667), (0.11111111, 0.66666667),\n",
              "        (0.22222222, 0.66666667), (0.33333333, 0.66666667),\n",
              "        (0.44444444, 0.66666667), (0.55555556, 0.66666667),\n",
              "        (0.66666667, 0.66666667), (0.77777778, 0.66666667),\n",
              "        (0.88888889, 0.66666667), (1.        , 0.66666667)],\n",
              "       [(0.        , 0.77777778), (0.11111111, 0.77777778),\n",
              "        (0.22222222, 0.77777778), (0.33333333, 0.77777778),\n",
              "        (0.44444444, 0.77777778), (0.55555556, 0.77777778),\n",
              "        (0.66666667, 0.77777778), (0.77777778, 0.77777778),\n",
              "        (0.88888889, 0.77777778), (1.        , 0.77777778)],\n",
              "       [(0.        , 0.88888889), (0.11111111, 0.88888889),\n",
              "        (0.22222222, 0.88888889), (0.33333333, 0.88888889),\n",
              "        (0.44444444, 0.88888889), (0.55555556, 0.88888889),\n",
              "        (0.66666667, 0.88888889), (0.77777778, 0.88888889),\n",
              "        (0.88888889, 0.88888889), (1.        , 0.88888889)],\n",
              "       [(0.        , 1.        ), (0.11111111, 1.        ),\n",
              "        (0.22222222, 1.        ), (0.33333333, 1.        ),\n",
              "        (0.44444444, 1.        ), (0.55555556, 1.        ),\n",
              "        (0.66666667, 1.        ), (0.77777778, 1.        ),\n",
              "        (0.88888889, 1.        ), (1.        , 1.        )]],\n",
              "      dtype=[('x', '<f8'), ('y', '<f8')])"
            ]
          },
          "metadata": {},
          "execution_count": 148
        }
      ],
      "source": [
        "a = np.zeros((10,10), [('x',float),('y',float)])\n",
        "a['x'], a['y'] = np.meshgrid(np.linspace(0,1,10),\n",
        "                             np.linspace(0,1,10))\n",
        "a"
      ]
    },
    {
      "cell_type": "markdown",
      "metadata": {
        "id": "wi9wZNKsEbh6"
      },
      "source": [
        "####  47. Given two arrays, X and Y, construct the Cauchy matrix C (Cij =1/(xi - yj)) \n",
        "(**hint**: np.subtract.outer)"
      ]
    },
    {
      "cell_type": "code",
      "execution_count": 149,
      "metadata": {
        "id": "j9OH6iGREbh6",
        "colab": {
          "base_uri": "https://localhost:8080/"
        },
        "outputId": "d1701626-2125-4f8d-eb1b-3fcf4a6f18e6"
      },
      "outputs": [
        {
          "output_type": "stream",
          "name": "stdout",
          "text": [
            "[[1 2]\n",
            " [3 4]]\n",
            "[[5 6]\n",
            " [7 8]]\n"
          ]
        },
        {
          "output_type": "execute_result",
          "data": {
            "text/plain": [
              "array([[[[-0.25      , -0.2       ],\n",
              "         [-0.16666667, -0.14285714]],\n",
              "\n",
              "        [[-0.33333333, -0.25      ],\n",
              "         [-0.2       , -0.16666667]]],\n",
              "\n",
              "\n",
              "       [[[-0.5       , -0.33333333],\n",
              "         [-0.25      , -0.2       ]],\n",
              "\n",
              "        [[-1.        , -0.5       ],\n",
              "         [-0.33333333, -0.25      ]]]])"
            ]
          },
          "metadata": {},
          "execution_count": 149
        }
      ],
      "source": [
        "X = np.arange(1,5).reshape(2,2)\n",
        "print(X)\n",
        "Y = np.arange(5,9).reshape(2,2)\n",
        "print(Y)\n",
        "C = (1/(np.subtract.outer(X,Y)))\n",
        "C"
      ]
    },
    {
      "cell_type": "markdown",
      "metadata": {
        "id": "xtvaQA4HEbh6"
      },
      "source": [
        "#### 48. Print the minimum and maximum representable value for each numpy scalar type (★★☆) \n",
        "(**hint**: np.iinfo, np.finfo, eps)"
      ]
    },
    {
      "cell_type": "code",
      "execution_count": 80,
      "metadata": {
        "id": "BSJCiZR1Ebh6",
        "colab": {
          "base_uri": "https://localhost:8080/"
        },
        "outputId": "53ddb710-6fce-409e-a9e5-9a9b7042d2af"
      },
      "outputs": [
        {
          "output_type": "stream",
          "name": "stdout",
          "text": [
            "-128\n",
            "127\n",
            "-2147483648\n",
            "2147483647\n",
            "-9223372036854775808\n",
            "9223372036854775807\n",
            "-3.4028235e+38\n",
            "3.4028235e+38\n",
            "1.1920929e-07\n",
            "-1.7976931348623157e+308\n",
            "1.7976931348623157e+308\n",
            "2.220446049250313e-16\n"
          ]
        }
      ],
      "source": [
        "for dtype in [np.int8, np.int32, np.int64]:\n",
        "   print(np.iinfo(dtype).min)\n",
        "   print(np.iinfo(dtype).max)\n",
        "for dtype in [np.float32, np.float64]:\n",
        "   print(np.finfo(dtype).min)\n",
        "   print(np.finfo(dtype).max)\n",
        "   print(np.finfo(dtype).eps)"
      ]
    },
    {
      "cell_type": "markdown",
      "metadata": {
        "id": "mTL29k62Ebh7"
      },
      "source": [
        "#### 49. How to print all the values of an array? (★★☆) \n",
        "(**hint**: np.set\\_printoptions)"
      ]
    },
    {
      "cell_type": "code",
      "source": [
        "np.set_printoptions(threshold=float(\"inf\"))\n",
        "Z = np.zeros((40,40))\n",
        "print(Z)"
      ],
      "metadata": {
        "id": "xxjPOl0RY8gi",
        "colab": {
          "base_uri": "https://localhost:8080/"
        },
        "outputId": "014e6a37-b32b-47ed-b710-6d6569d0cb53"
      },
      "execution_count": 81,
      "outputs": [
        {
          "output_type": "stream",
          "name": "stdout",
          "text": [
            "[[0. 0. 0. 0. 0. 0. 0. 0. 0. 0. 0. 0. 0. 0. 0. 0. 0. 0. 0. 0. 0. 0. 0. 0.\n",
            "  0. 0. 0. 0. 0. 0. 0. 0. 0. 0. 0. 0. 0. 0. 0. 0.]\n",
            " [0. 0. 0. 0. 0. 0. 0. 0. 0. 0. 0. 0. 0. 0. 0. 0. 0. 0. 0. 0. 0. 0. 0. 0.\n",
            "  0. 0. 0. 0. 0. 0. 0. 0. 0. 0. 0. 0. 0. 0. 0. 0.]\n",
            " [0. 0. 0. 0. 0. 0. 0. 0. 0. 0. 0. 0. 0. 0. 0. 0. 0. 0. 0. 0. 0. 0. 0. 0.\n",
            "  0. 0. 0. 0. 0. 0. 0. 0. 0. 0. 0. 0. 0. 0. 0. 0.]\n",
            " [0. 0. 0. 0. 0. 0. 0. 0. 0. 0. 0. 0. 0. 0. 0. 0. 0. 0. 0. 0. 0. 0. 0. 0.\n",
            "  0. 0. 0. 0. 0. 0. 0. 0. 0. 0. 0. 0. 0. 0. 0. 0.]\n",
            " [0. 0. 0. 0. 0. 0. 0. 0. 0. 0. 0. 0. 0. 0. 0. 0. 0. 0. 0. 0. 0. 0. 0. 0.\n",
            "  0. 0. 0. 0. 0. 0. 0. 0. 0. 0. 0. 0. 0. 0. 0. 0.]\n",
            " [0. 0. 0. 0. 0. 0. 0. 0. 0. 0. 0. 0. 0. 0. 0. 0. 0. 0. 0. 0. 0. 0. 0. 0.\n",
            "  0. 0. 0. 0. 0. 0. 0. 0. 0. 0. 0. 0. 0. 0. 0. 0.]\n",
            " [0. 0. 0. 0. 0. 0. 0. 0. 0. 0. 0. 0. 0. 0. 0. 0. 0. 0. 0. 0. 0. 0. 0. 0.\n",
            "  0. 0. 0. 0. 0. 0. 0. 0. 0. 0. 0. 0. 0. 0. 0. 0.]\n",
            " [0. 0. 0. 0. 0. 0. 0. 0. 0. 0. 0. 0. 0. 0. 0. 0. 0. 0. 0. 0. 0. 0. 0. 0.\n",
            "  0. 0. 0. 0. 0. 0. 0. 0. 0. 0. 0. 0. 0. 0. 0. 0.]\n",
            " [0. 0. 0. 0. 0. 0. 0. 0. 0. 0. 0. 0. 0. 0. 0. 0. 0. 0. 0. 0. 0. 0. 0. 0.\n",
            "  0. 0. 0. 0. 0. 0. 0. 0. 0. 0. 0. 0. 0. 0. 0. 0.]\n",
            " [0. 0. 0. 0. 0. 0. 0. 0. 0. 0. 0. 0. 0. 0. 0. 0. 0. 0. 0. 0. 0. 0. 0. 0.\n",
            "  0. 0. 0. 0. 0. 0. 0. 0. 0. 0. 0. 0. 0. 0. 0. 0.]\n",
            " [0. 0. 0. 0. 0. 0. 0. 0. 0. 0. 0. 0. 0. 0. 0. 0. 0. 0. 0. 0. 0. 0. 0. 0.\n",
            "  0. 0. 0. 0. 0. 0. 0. 0. 0. 0. 0. 0. 0. 0. 0. 0.]\n",
            " [0. 0. 0. 0. 0. 0. 0. 0. 0. 0. 0. 0. 0. 0. 0. 0. 0. 0. 0. 0. 0. 0. 0. 0.\n",
            "  0. 0. 0. 0. 0. 0. 0. 0. 0. 0. 0. 0. 0. 0. 0. 0.]\n",
            " [0. 0. 0. 0. 0. 0. 0. 0. 0. 0. 0. 0. 0. 0. 0. 0. 0. 0. 0. 0. 0. 0. 0. 0.\n",
            "  0. 0. 0. 0. 0. 0. 0. 0. 0. 0. 0. 0. 0. 0. 0. 0.]\n",
            " [0. 0. 0. 0. 0. 0. 0. 0. 0. 0. 0. 0. 0. 0. 0. 0. 0. 0. 0. 0. 0. 0. 0. 0.\n",
            "  0. 0. 0. 0. 0. 0. 0. 0. 0. 0. 0. 0. 0. 0. 0. 0.]\n",
            " [0. 0. 0. 0. 0. 0. 0. 0. 0. 0. 0. 0. 0. 0. 0. 0. 0. 0. 0. 0. 0. 0. 0. 0.\n",
            "  0. 0. 0. 0. 0. 0. 0. 0. 0. 0. 0. 0. 0. 0. 0. 0.]\n",
            " [0. 0. 0. 0. 0. 0. 0. 0. 0. 0. 0. 0. 0. 0. 0. 0. 0. 0. 0. 0. 0. 0. 0. 0.\n",
            "  0. 0. 0. 0. 0. 0. 0. 0. 0. 0. 0. 0. 0. 0. 0. 0.]\n",
            " [0. 0. 0. 0. 0. 0. 0. 0. 0. 0. 0. 0. 0. 0. 0. 0. 0. 0. 0. 0. 0. 0. 0. 0.\n",
            "  0. 0. 0. 0. 0. 0. 0. 0. 0. 0. 0. 0. 0. 0. 0. 0.]\n",
            " [0. 0. 0. 0. 0. 0. 0. 0. 0. 0. 0. 0. 0. 0. 0. 0. 0. 0. 0. 0. 0. 0. 0. 0.\n",
            "  0. 0. 0. 0. 0. 0. 0. 0. 0. 0. 0. 0. 0. 0. 0. 0.]\n",
            " [0. 0. 0. 0. 0. 0. 0. 0. 0. 0. 0. 0. 0. 0. 0. 0. 0. 0. 0. 0. 0. 0. 0. 0.\n",
            "  0. 0. 0. 0. 0. 0. 0. 0. 0. 0. 0. 0. 0. 0. 0. 0.]\n",
            " [0. 0. 0. 0. 0. 0. 0. 0. 0. 0. 0. 0. 0. 0. 0. 0. 0. 0. 0. 0. 0. 0. 0. 0.\n",
            "  0. 0. 0. 0. 0. 0. 0. 0. 0. 0. 0. 0. 0. 0. 0. 0.]\n",
            " [0. 0. 0. 0. 0. 0. 0. 0. 0. 0. 0. 0. 0. 0. 0. 0. 0. 0. 0. 0. 0. 0. 0. 0.\n",
            "  0. 0. 0. 0. 0. 0. 0. 0. 0. 0. 0. 0. 0. 0. 0. 0.]\n",
            " [0. 0. 0. 0. 0. 0. 0. 0. 0. 0. 0. 0. 0. 0. 0. 0. 0. 0. 0. 0. 0. 0. 0. 0.\n",
            "  0. 0. 0. 0. 0. 0. 0. 0. 0. 0. 0. 0. 0. 0. 0. 0.]\n",
            " [0. 0. 0. 0. 0. 0. 0. 0. 0. 0. 0. 0. 0. 0. 0. 0. 0. 0. 0. 0. 0. 0. 0. 0.\n",
            "  0. 0. 0. 0. 0. 0. 0. 0. 0. 0. 0. 0. 0. 0. 0. 0.]\n",
            " [0. 0. 0. 0. 0. 0. 0. 0. 0. 0. 0. 0. 0. 0. 0. 0. 0. 0. 0. 0. 0. 0. 0. 0.\n",
            "  0. 0. 0. 0. 0. 0. 0. 0. 0. 0. 0. 0. 0. 0. 0. 0.]\n",
            " [0. 0. 0. 0. 0. 0. 0. 0. 0. 0. 0. 0. 0. 0. 0. 0. 0. 0. 0. 0. 0. 0. 0. 0.\n",
            "  0. 0. 0. 0. 0. 0. 0. 0. 0. 0. 0. 0. 0. 0. 0. 0.]\n",
            " [0. 0. 0. 0. 0. 0. 0. 0. 0. 0. 0. 0. 0. 0. 0. 0. 0. 0. 0. 0. 0. 0. 0. 0.\n",
            "  0. 0. 0. 0. 0. 0. 0. 0. 0. 0. 0. 0. 0. 0. 0. 0.]\n",
            " [0. 0. 0. 0. 0. 0. 0. 0. 0. 0. 0. 0. 0. 0. 0. 0. 0. 0. 0. 0. 0. 0. 0. 0.\n",
            "  0. 0. 0. 0. 0. 0. 0. 0. 0. 0. 0. 0. 0. 0. 0. 0.]\n",
            " [0. 0. 0. 0. 0. 0. 0. 0. 0. 0. 0. 0. 0. 0. 0. 0. 0. 0. 0. 0. 0. 0. 0. 0.\n",
            "  0. 0. 0. 0. 0. 0. 0. 0. 0. 0. 0. 0. 0. 0. 0. 0.]\n",
            " [0. 0. 0. 0. 0. 0. 0. 0. 0. 0. 0. 0. 0. 0. 0. 0. 0. 0. 0. 0. 0. 0. 0. 0.\n",
            "  0. 0. 0. 0. 0. 0. 0. 0. 0. 0. 0. 0. 0. 0. 0. 0.]\n",
            " [0. 0. 0. 0. 0. 0. 0. 0. 0. 0. 0. 0. 0. 0. 0. 0. 0. 0. 0. 0. 0. 0. 0. 0.\n",
            "  0. 0. 0. 0. 0. 0. 0. 0. 0. 0. 0. 0. 0. 0. 0. 0.]\n",
            " [0. 0. 0. 0. 0. 0. 0. 0. 0. 0. 0. 0. 0. 0. 0. 0. 0. 0. 0. 0. 0. 0. 0. 0.\n",
            "  0. 0. 0. 0. 0. 0. 0. 0. 0. 0. 0. 0. 0. 0. 0. 0.]\n",
            " [0. 0. 0. 0. 0. 0. 0. 0. 0. 0. 0. 0. 0. 0. 0. 0. 0. 0. 0. 0. 0. 0. 0. 0.\n",
            "  0. 0. 0. 0. 0. 0. 0. 0. 0. 0. 0. 0. 0. 0. 0. 0.]\n",
            " [0. 0. 0. 0. 0. 0. 0. 0. 0. 0. 0. 0. 0. 0. 0. 0. 0. 0. 0. 0. 0. 0. 0. 0.\n",
            "  0. 0. 0. 0. 0. 0. 0. 0. 0. 0. 0. 0. 0. 0. 0. 0.]\n",
            " [0. 0. 0. 0. 0. 0. 0. 0. 0. 0. 0. 0. 0. 0. 0. 0. 0. 0. 0. 0. 0. 0. 0. 0.\n",
            "  0. 0. 0. 0. 0. 0. 0. 0. 0. 0. 0. 0. 0. 0. 0. 0.]\n",
            " [0. 0. 0. 0. 0. 0. 0. 0. 0. 0. 0. 0. 0. 0. 0. 0. 0. 0. 0. 0. 0. 0. 0. 0.\n",
            "  0. 0. 0. 0. 0. 0. 0. 0. 0. 0. 0. 0. 0. 0. 0. 0.]\n",
            " [0. 0. 0. 0. 0. 0. 0. 0. 0. 0. 0. 0. 0. 0. 0. 0. 0. 0. 0. 0. 0. 0. 0. 0.\n",
            "  0. 0. 0. 0. 0. 0. 0. 0. 0. 0. 0. 0. 0. 0. 0. 0.]\n",
            " [0. 0. 0. 0. 0. 0. 0. 0. 0. 0. 0. 0. 0. 0. 0. 0. 0. 0. 0. 0. 0. 0. 0. 0.\n",
            "  0. 0. 0. 0. 0. 0. 0. 0. 0. 0. 0. 0. 0. 0. 0. 0.]\n",
            " [0. 0. 0. 0. 0. 0. 0. 0. 0. 0. 0. 0. 0. 0. 0. 0. 0. 0. 0. 0. 0. 0. 0. 0.\n",
            "  0. 0. 0. 0. 0. 0. 0. 0. 0. 0. 0. 0. 0. 0. 0. 0.]\n",
            " [0. 0. 0. 0. 0. 0. 0. 0. 0. 0. 0. 0. 0. 0. 0. 0. 0. 0. 0. 0. 0. 0. 0. 0.\n",
            "  0. 0. 0. 0. 0. 0. 0. 0. 0. 0. 0. 0. 0. 0. 0. 0.]\n",
            " [0. 0. 0. 0. 0. 0. 0. 0. 0. 0. 0. 0. 0. 0. 0. 0. 0. 0. 0. 0. 0. 0. 0. 0.\n",
            "  0. 0. 0. 0. 0. 0. 0. 0. 0. 0. 0. 0. 0. 0. 0. 0.]]\n"
          ]
        }
      ]
    },
    {
      "cell_type": "markdown",
      "metadata": {
        "id": "2zeoBSgoEbh7"
      },
      "source": [
        "#### 50. How to find the closest value (to a given scalar) in a vector? (★★☆) \n",
        "(**hint**: argmin)"
      ]
    },
    {
      "cell_type": "code",
      "execution_count": 82,
      "metadata": {
        "id": "-C0Z71k1Ebh7",
        "colab": {
          "base_uri": "https://localhost:8080/"
        },
        "outputId": "5bcade1c-7b62-4f31-e133-9d5784b7ed43"
      },
      "outputs": [
        {
          "output_type": "stream",
          "name": "stdout",
          "text": [
            "[ 0  1  2  3  4  5  6  7  8  9 10 11 12 13 14 15 16 17 18 19 20 21 22 23\n",
            " 24 25 26 27 28 29 30 31 32 33 34 35 36 37 38 39 40 41 42 43 44 45 46 47\n",
            " 48 49 50 51 52 53 54 55 56 57 58 59 60 61 62 63 64 65 66 67 68 69 70 71\n",
            " 72 73 74 75 76 77 78 79 80 81 82 83 84 85 86 87 88 89 90 91 92 93 94 95\n",
            " 96 97 98 99]\n",
            "31.352318707097826\n",
            "31\n",
            "31\n"
          ]
        }
      ],
      "source": [
        "Z = np.arange(100)\n",
        "print(Z)\n",
        "v = np.random.uniform(0,100)\n",
        "print(v)\n",
        "index = (np.abs(Z-v)).argmin()\n",
        "print(index)\n",
        "print(Z[index])"
      ]
    },
    {
      "cell_type": "markdown",
      "metadata": {
        "id": "_gEKNK0rEbh7"
      },
      "source": [
        "#### 51. Create a structured array representing a position (x,y) and a color (r,g,b) (★★☆) \n",
        "(**hint**: dtype)"
      ]
    },
    {
      "cell_type": "code",
      "execution_count": 83,
      "metadata": {
        "id": "YzkvOGEqEbh8",
        "colab": {
          "base_uri": "https://localhost:8080/"
        },
        "outputId": "19599656-8f9f-4497-d230-450e91040c05"
      },
      "outputs": [
        {
          "output_type": "stream",
          "name": "stdout",
          "text": [
            "[((1., 1.), (1., 1., 1.)) ((1., 1.), (1., 1., 1.))\n",
            " ((1., 1.), (1., 1., 1.)) ((1., 1.), (1., 1., 1.))\n",
            " ((1., 1.), (1., 1., 1.)) ((1., 1.), (1., 1., 1.))\n",
            " ((1., 1.), (1., 1., 1.)) ((1., 1.), (1., 1., 1.))\n",
            " ((1., 1.), (1., 1., 1.)) ((1., 1.), (1., 1., 1.))]\n"
          ]
        },
        {
          "output_type": "stream",
          "name": "stderr",
          "text": [
            "/usr/local/lib/python3.7/dist-packages/numpy/core/numeric.py:204: FutureWarning: Passing (type, 1) or '1type' as a synonym of type is deprecated; in a future version of numpy, it will be understood as (type, (1,)) / '(1,)type'.\n",
            "  a = empty(shape, dtype, order)\n"
          ]
        }
      ],
      "source": [
        "sat_array = np.ones(10, [ ('position', [ ('x', float, 1),\n",
        "                                   ('y', float, 1)]),\n",
        "                    ('color',    [ ('r', float, 1),\n",
        "                                   ('g', float, 1),\n",
        "                                   ('b', float, 1)])])\n",
        "print(sat_array)"
      ]
    },
    {
      "cell_type": "markdown",
      "metadata": {
        "id": "DzUbAx4PEbh8"
      },
      "source": [
        "#### 52. Consider a random vector with shape (100,2) representing coordinates, find point by point distances (★★☆) \n",
        "(**hint**: np.atleast\\_2d, T, np.sqrt)"
      ]
    },
    {
      "cell_type": "code",
      "execution_count": 84,
      "metadata": {
        "id": "NI7L0CGeEbh8"
      },
      "outputs": [],
      "source": [
        "vector = np.random.random((10,2))"
      ]
    },
    {
      "cell_type": "code",
      "source": [
        "X,Y = np.atleast_2d(vector[:,0]), np.atleast_2d(vector[:,1])"
      ],
      "metadata": {
        "id": "ObEwXlV1ZbJZ"
      },
      "execution_count": 85,
      "outputs": []
    },
    {
      "cell_type": "code",
      "source": [
        "D = np.sqrt( (X-X.T)**2 + (Y-Y.T)**2)\n",
        "print(D)"
      ],
      "metadata": {
        "colab": {
          "base_uri": "https://localhost:8080/"
        },
        "id": "EMuRrFLjZgP2",
        "outputId": "fc59abfa-ff5f-4f3b-acb1-b10e788a5ba2"
      },
      "execution_count": 86,
      "outputs": [
        {
          "output_type": "stream",
          "name": "stdout",
          "text": [
            "[[0.         0.89968457 0.98297748 1.07813079 0.95245071 0.86531322\n",
            "  0.79532557 0.33493555 0.19635252 0.33169684]\n",
            " [0.89968457 0.         0.38157274 0.19998765 0.58335947 0.0343831\n",
            "  0.16034497 0.81731454 0.82557066 0.57189648]\n",
            " [0.98297748 0.38157274 0.         0.32876542 0.95951335 0.38455322\n",
            "  0.50972741 0.76890716 0.98457614 0.71459255]\n",
            " [1.07813079 0.19998765 0.32876542 0.         0.73435137 0.230883\n",
            "  0.35694944 0.95494187 1.01810265 0.75728089]\n",
            " [0.95245071 0.58335947 0.95951335 0.73435137 0.         0.57551898\n",
            "  0.45395074 1.07174206 0.77950087 0.68384285]\n",
            " [0.86531322 0.0343831  0.38455322 0.230883   0.57551898 0.\n",
            "  0.13766338 0.78585146 0.79180431 0.53755066]\n",
            " [0.79532557 0.16034497 0.50972741 0.35694944 0.45395074 0.13766338\n",
            "  0.         0.76956198 0.69710671 0.46376357]\n",
            " [0.33493555 0.81731454 0.76890716 0.95494187 1.07174206 0.78585146\n",
            "  0.76956198 0.         0.47949701 0.39240775]\n",
            " [0.19635252 0.82557066 0.98457614 1.01810265 0.77950087 0.79180431\n",
            "  0.69710671 0.47949701 0.         0.27141389]\n",
            " [0.33169684 0.57189648 0.71459255 0.75728089 0.68384285 0.53755066\n",
            "  0.46376357 0.39240775 0.27141389 0.        ]]\n"
          ]
        }
      ]
    },
    {
      "cell_type": "markdown",
      "metadata": {
        "id": "n2I1UyOKEbh8"
      },
      "source": [
        "#### 53. How to convert a float (32 bits) array into an integer (32 bits) in place? \n",
        "(**hint**: astype(copy=False))"
      ]
    },
    {
      "cell_type": "code",
      "execution_count": 87,
      "metadata": {
        "id": "Yv_JtLa8Ebh9",
        "colab": {
          "base_uri": "https://localhost:8080/"
        },
        "outputId": "236fee2a-b41f-47d7-8eb6-697eed120808"
      },
      "outputs": [
        {
          "output_type": "stream",
          "name": "stdout",
          "text": [
            "[0 1 2 3 4 5 6 7 8 9]\n",
            "[0. 1. 2. 3. 4. 5. 6. 7. 8. 9.]\n"
          ]
        }
      ],
      "source": [
        "convert = np.arange(10, dtype=np.int32)\n",
        "convert2 = convert.astype(np.float32, copy=False)\n",
        "print(convert)\n",
        "print(convert2)"
      ]
    },
    {
      "cell_type": "markdown",
      "metadata": {
        "id": "ThDpfxwbEbh9"
      },
      "source": [
        "#### 54. How to read the following file? (★★☆) \n",
        "(**hint**: np.genfromtxt)"
      ]
    },
    {
      "cell_type": "markdown",
      "metadata": {
        "id": "Mvizxl9JEbh9"
      },
      "source": [
        "```\n",
        "1, 2, 3, 4, 5\n",
        "6,  ,  , 7, 8\n",
        " ,  , 9,10,11\n",
        "```"
      ]
    },
    {
      "cell_type": "code",
      "execution_count": 88,
      "metadata": {
        "id": "6S_wx6SXEbh9",
        "colab": {
          "base_uri": "https://localhost:8080/"
        },
        "outputId": "03bb2199-2ce2-4bca-90d5-5e27973ef7f5"
      },
      "outputs": [
        {
          "output_type": "stream",
          "name": "stdout",
          "text": [
            "[[ 1  2  3  4  5]\n",
            " [ 6 -1 -1  7  8]\n",
            " [-1 -1  9 10 11]]\n"
          ]
        }
      ],
      "source": [
        "from io import StringIO\n",
        "s=StringIO(\"\"\"1, 2, 3, 4, 5\\n\n",
        "                6,  ,  , 7, 8\\n\n",
        "                 ,  , 9,10,11\\n\"\"\")\n",
        "z=np.genfromtxt(s, delimiter=\",\", dtype=int)\n",
        "print(z)"
      ]
    },
    {
      "cell_type": "markdown",
      "metadata": {
        "id": "3moeXaKcEbh-"
      },
      "source": [
        "#### 55. What is the equivalent of enumerate for numpy arrays? (★★☆) \n",
        "(**hint**: np.ndenumerate, np.ndindex)"
      ]
    },
    {
      "cell_type": "code",
      "execution_count": 89,
      "metadata": {
        "id": "AfyE-bDREbh-",
        "colab": {
          "base_uri": "https://localhost:8080/"
        },
        "outputId": "ae711311-3530-4ab8-e29a-9acacecd94ca"
      },
      "outputs": [
        {
          "output_type": "stream",
          "name": "stdout",
          "text": [
            "(0, 0) 0\n",
            "(0, 1) 1\n",
            "(0, 2) 2\n",
            "(1, 0) 3\n",
            "(1, 1) 4\n",
            "(1, 2) 5\n",
            "(2, 0) 6\n",
            "(2, 1) 7\n",
            "(2, 2) 8\n",
            "(0, 0) 0\n",
            "(0, 1) 1\n",
            "(0, 2) 2\n",
            "(1, 0) 3\n",
            "(1, 1) 4\n",
            "(1, 2) 5\n",
            "(2, 0) 6\n",
            "(2, 1) 7\n",
            "(2, 2) 8\n"
          ]
        }
      ],
      "source": [
        "Z = np.arange(9).reshape(3,3)\n",
        "for index, value in np.ndenumerate(Z):\n",
        "    print(index, value)\n",
        "for index in np.ndindex(Z.shape):\n",
        "    print(index, Z[index])"
      ]
    },
    {
      "cell_type": "markdown",
      "metadata": {
        "id": "xEqU4Wf7Ebh-"
      },
      "source": [
        "#### 56. Generate a generic 2D Gaussian-like array (★★☆) \n",
        "(**hint**: np.meshgrid, np.exp)"
      ]
    },
    {
      "cell_type": "code",
      "execution_count": 90,
      "metadata": {
        "id": "E8_qCFT9Ebh-",
        "colab": {
          "base_uri": "https://localhost:8080/"
        },
        "outputId": "8b904bee-85f1-4d04-b7af-c7b944724f08"
      },
      "outputs": [
        {
          "output_type": "stream",
          "name": "stdout",
          "text": [
            "[[1.         0.8824969  0.60653066]\n",
            " [0.8824969  0.77880078 0.53526143]\n",
            " [0.60653066 0.53526143 0.36787944]]\n"
          ]
        }
      ],
      "source": [
        "X, Y = np.meshgrid(np.linspace(0,1,3), np.linspace(0,1,3))\n",
        "D = np.sqrt(X*X+Y*Y)\n",
        "sigma, mu = 1.0, 0.0\n",
        "G = np.exp(-( (D-mu)**2 / ( 2.0 * sigma**2 ) ) )\n",
        "print(G)"
      ]
    },
    {
      "cell_type": "markdown",
      "metadata": {
        "id": "WnkylzbHEbh_"
      },
      "source": [
        "#### 57. How to randomly place p elements in a 2D array? (★★☆) \n",
        "(**hint**: np.put, np.random.choice)"
      ]
    },
    {
      "cell_type": "code",
      "execution_count": 91,
      "metadata": {
        "id": "-oKznueaEbh_",
        "colab": {
          "base_uri": "https://localhost:8080/"
        },
        "outputId": "83f4ede9-6049-4d69-dfab-c2e742664aa9"
      },
      "outputs": [
        {
          "output_type": "stream",
          "name": "stdout",
          "text": [
            "[[1. 0. 0.]\n",
            " [1. 0. 1.]\n",
            " [1. 1. 0.]]\n"
          ]
        }
      ],
      "source": [
        "n = 3\n",
        "p = 5\n",
        "Z = np.zeros((n,n))\n",
        "np.put(Z, np.random.choice(range(n*n), p, replace=False),1)\n",
        "print (Z)"
      ]
    },
    {
      "cell_type": "markdown",
      "metadata": {
        "id": "C-ZZY2rZEbh_"
      },
      "source": [
        "#### 58. Subtract the mean of each row of a matrix (★★☆) \n",
        "(**hint**: mean(axis=,keepdims=))"
      ]
    },
    {
      "cell_type": "code",
      "execution_count": 92,
      "metadata": {
        "id": "X9p7rtC9Ebh_"
      },
      "outputs": [],
      "source": [
        "X = np.random.rand(3,3)"
      ]
    },
    {
      "cell_type": "code",
      "source": [
        "Y = X - X.mean(axis=1, keepdims=True)\n",
        "print(Y)"
      ],
      "metadata": {
        "colab": {
          "base_uri": "https://localhost:8080/"
        },
        "id": "aPgzf1c-apNZ",
        "outputId": "e5fdddc9-bd4d-41a8-e436-a84a6b271ca9"
      },
      "execution_count": 93,
      "outputs": [
        {
          "output_type": "stream",
          "name": "stdout",
          "text": [
            "[[-0.22768406 -0.18402678  0.41171084]\n",
            " [ 0.31898873 -0.17101943 -0.1479693 ]\n",
            " [-0.01745704  0.18342189 -0.16596485]]\n"
          ]
        }
      ]
    },
    {
      "cell_type": "markdown",
      "metadata": {
        "id": "D8JP-MluEbh_"
      },
      "source": [
        "#### 59. How to sort an array by the nth column? (★★☆) \n",
        "(**hint**: argsort)"
      ]
    },
    {
      "cell_type": "code",
      "execution_count": 94,
      "metadata": {
        "id": "fchhipiJEbiA",
        "colab": {
          "base_uri": "https://localhost:8080/"
        },
        "outputId": "7df4747a-6215-4165-ffab-e4bcef8db7bc"
      },
      "outputs": [
        {
          "output_type": "stream",
          "name": "stdout",
          "text": [
            "[[8 5 6]\n",
            " [7 0 6]\n",
            " [4 3 4]]\n",
            "[[7 0 6]\n",
            " [4 3 4]\n",
            " [8 5 6]]\n"
          ]
        }
      ],
      "source": [
        "Z = np.random.randint(0,10,(3,3))\n",
        "print(Z)\n",
        "print(Z[Z[:,1].argsort()])"
      ]
    },
    {
      "cell_type": "markdown",
      "metadata": {
        "id": "KEVp0oeNEbiA"
      },
      "source": [
        "#### 60. How to tell if a given 2D array has null columns? (★★☆) \n",
        "(**hint**: any, ~)"
      ]
    },
    {
      "cell_type": "code",
      "execution_count": 95,
      "metadata": {
        "id": "vW4mPr-SEbiA",
        "colab": {
          "base_uri": "https://localhost:8080/"
        },
        "outputId": "67ebabd5-eb85-4e73-fe6a-6df6fca6586b"
      },
      "outputs": [
        {
          "output_type": "stream",
          "name": "stdout",
          "text": [
            "[[0. 0.]\n",
            " [0. 0.]]\n",
            "True\n",
            "[[1. 1.]\n",
            " [1. 1.]]\n",
            "False\n"
          ]
        }
      ],
      "source": [
        "Z=np.zeros(4).reshape(2,2)\n",
        "print(Z)\n",
        "print((~Z.any(axis=0)).any())\n",
        "X=np.ones(4).reshape(2,2)\n",
        "print(X)\n",
        "print((~X.any(axis=0)).any())"
      ]
    },
    {
      "cell_type": "markdown",
      "metadata": {
        "id": "v79Nz72oEbiA"
      },
      "source": [
        "#### 61. Find the nearest value from a given value in an array (★★☆) \n",
        "(**hint**: np.abs, argmin, flat)"
      ]
    },
    {
      "cell_type": "code",
      "execution_count": 96,
      "metadata": {
        "id": "-Ca23FTqEbiB",
        "colab": {
          "base_uri": "https://localhost:8080/"
        },
        "outputId": "0ff08d39-34f7-42f1-e448-f5c4f34e2fd4"
      },
      "outputs": [
        {
          "output_type": "stream",
          "name": "stdout",
          "text": [
            "0.5181747018319302\n"
          ]
        }
      ],
      "source": [
        "Z = np.random.uniform(0,1,10)\n",
        "z = 0.5\n",
        "m = Z.flat[np.abs(Z - z).argmin()]\n",
        "print(m)"
      ]
    },
    {
      "cell_type": "markdown",
      "metadata": {
        "id": "tWnufTiKEbiB"
      },
      "source": [
        "#### 62. Considering two arrays with shape (1,3) and (3,1), how to compute their sum using an iterator? (★★☆) \n",
        "(**hint**: np.nditer)"
      ]
    },
    {
      "cell_type": "code",
      "execution_count": 97,
      "metadata": {
        "id": "zkUpTgpbEbiB",
        "colab": {
          "base_uri": "https://localhost:8080/"
        },
        "outputId": "581176b7-e62e-457e-eedd-be02625a0422"
      },
      "outputs": [
        {
          "output_type": "stream",
          "name": "stdout",
          "text": [
            "[[0 1 2]\n",
            " [1 2 3]\n",
            " [2 3 4]]\n"
          ]
        }
      ],
      "source": [
        "A=np.arange(3).reshape(3,1)\n",
        "B=np.arange(3).reshape(1,3)\n",
        "it=np.nditer([A,B,None])\n",
        "for x,y,z in it:z[...]=x+y\n",
        "print(it.operands[2])"
      ]
    },
    {
      "cell_type": "markdown",
      "metadata": {
        "id": "m7u9GlQkEbiC"
      },
      "source": [
        "#### 63. Create an array class that has a name attribute (★★☆) \n",
        "(**hint**: class method)"
      ]
    },
    {
      "cell_type": "code",
      "execution_count": 98,
      "metadata": {
        "id": "RTl7P8JpEbiC",
        "colab": {
          "base_uri": "https://localhost:8080/"
        },
        "outputId": "9eabffff-c38e-4d39-968f-54911badd777"
      },
      "outputs": [
        {
          "output_type": "stream",
          "name": "stdout",
          "text": [
            "range_10\n"
          ]
        }
      ],
      "source": [
        "class NamedArray(np.ndarray):\n",
        "    def __new__(cls, array, name=\"no name\"):\n",
        "        obj = np.asarray(array).view(cls)\n",
        "        obj.name = name\n",
        "        return obj\n",
        "    def __array_finalize__(self, obj):\n",
        "        if obj is None: return\n",
        "        self.info = getattr(obj, 'name', \"no name\")\n",
        "\n",
        "Z = NamedArray(np.arange(10), \"range_10\")\n",
        "print (Z.name)"
      ]
    },
    {
      "cell_type": "markdown",
      "metadata": {
        "id": "XKuJNEN0EbiD"
      },
      "source": [
        "#### 64. Consider a given vector, how to add 1 to each element indexed by a second vector (be careful with repeated indices)? (★★★) \n",
        "(**hint**: np.bincount | np.add.at)"
      ]
    },
    {
      "cell_type": "code",
      "execution_count": 99,
      "metadata": {
        "id": "WXFldPVGEbiD",
        "colab": {
          "base_uri": "https://localhost:8080/"
        },
        "outputId": "d4e90d33-6df2-4573-e52d-b76a62b45182"
      },
      "outputs": [
        {
          "output_type": "stream",
          "name": "stdout",
          "text": [
            "[3. 1. 2. 1. 5. 2. 1. 2. 1. 2.]\n",
            "[5. 1. 3. 1. 9. 3. 1. 3. 1. 3.]\n"
          ]
        }
      ],
      "source": [
        "a=np.ones(10)\n",
        "b=np.random.randint(0,len(a),10)\n",
        "a+=np.bincount(b,minlength=len(a))\n",
        "print(a)\n",
        "np.add.at(a,b,1)\n",
        "print(a)"
      ]
    },
    {
      "cell_type": "markdown",
      "metadata": {
        "id": "DFek2fddEbiE"
      },
      "source": [
        "#### 65. How to accumulate elements of a vector (X) to an array (F) based on an index list (I)? (★★★) \n",
        "(**hint**: np.bincount)"
      ]
    },
    {
      "cell_type": "code",
      "execution_count": 100,
      "metadata": {
        "id": "kGsV-mwJEbiE",
        "colab": {
          "base_uri": "https://localhost:8080/"
        },
        "outputId": "74e96f0b-7cb6-4efc-e71e-7a09f54b5b1a"
      },
      "outputs": [
        {
          "output_type": "stream",
          "name": "stdout",
          "text": [
            "[0. 7. 0. 6. 5. 0. 0. 0. 0. 3.]\n"
          ]
        }
      ],
      "source": [
        "X = [1,2,3,4,5,6]\n",
        "I = [1,3,9,3,4,1]\n",
        "F = np.bincount(I,X)\n",
        "print(F)"
      ]
    },
    {
      "cell_type": "markdown",
      "metadata": {
        "id": "gzWbT3oUEbiE"
      },
      "source": [
        "#### 66. Considering a (w,h,3) image of (dtype=ubyte), compute the number of unique colors (★★★) \n",
        "(**hint**: np.unique)"
      ]
    },
    {
      "cell_type": "code",
      "execution_count": 101,
      "metadata": {
        "id": "E1tTXFbXEbiE",
        "colab": {
          "base_uri": "https://localhost:8080/"
        },
        "outputId": "07ff0cd0-f116-4ce2-dfa2-1e3a42529f45"
      },
      "outputs": [
        {
          "output_type": "stream",
          "name": "stdout",
          "text": [
            "4\n"
          ]
        }
      ],
      "source": [
        "w,h = 16,16\n",
        "I = np.random.randint(0,2,(h,w,3)).astype(np.ubyte)\n",
        "F = I[...,0]*256*256 + I[...,1]*256 +I[...,2]\n",
        "n = len(np.unique(F))\n",
        "print(n)"
      ]
    },
    {
      "cell_type": "markdown",
      "metadata": {
        "id": "SI5n4lsjEbiE"
      },
      "source": [
        "#### 67. Considering a four dimensions array, how to get sum over the last two axis at once? (★★★) \n",
        "(**hint**: sum(axis=(-2,-1)))"
      ]
    },
    {
      "cell_type": "code",
      "execution_count": 102,
      "metadata": {
        "id": "y88MoXfPEbiF",
        "colab": {
          "base_uri": "https://localhost:8080/"
        },
        "outputId": "3e006168-c18f-4ac1-de67-8a4ce875b756"
      },
      "outputs": [
        {
          "output_type": "stream",
          "name": "stdout",
          "text": [
            "[[68 46 41 54]\n",
            " [52 60 36 43]\n",
            " [35 50 64 46]]\n"
          ]
        }
      ],
      "source": [
        "A = np.random.randint(0,10,(3,4,3,4))\n",
        "sum = A.reshape(A.shape[:-2] + (-1,)).sum(axis=-1)\n",
        "print(sum)"
      ]
    },
    {
      "cell_type": "markdown",
      "metadata": {
        "id": "JWblHCs3EbiF"
      },
      "source": [
        "#### 68. Considering a one-dimensional vector D, how to compute means of subsets of D using a vector S of same size describing subset  indices? (★★★) \n",
        "(**hint**: np.bincount)"
      ]
    },
    {
      "cell_type": "code",
      "execution_count": 103,
      "metadata": {
        "id": "y1ln6Q9-EbiF",
        "colab": {
          "base_uri": "https://localhost:8080/"
        },
        "outputId": "5eadc995-632e-4736-b07a-6824f09efc1e"
      },
      "outputs": [
        {
          "output_type": "stream",
          "name": "stdout",
          "text": [
            "[0.62205928 0.44797512 0.451278   0.40102734 0.63669203 0.52674278\n",
            " 0.47532016 0.49470416 0.50370609 0.51220006]\n",
            "0    0.622059\n",
            "1    0.447975\n",
            "2    0.451278\n",
            "3    0.401027\n",
            "4    0.636692\n",
            "5    0.526743\n",
            "6    0.475320\n",
            "7    0.494704\n",
            "8    0.503706\n",
            "9    0.512200\n",
            "dtype: float64\n"
          ]
        }
      ],
      "source": [
        "D = np.random.uniform(0,1,100)\n",
        "S = np.random.randint(0,10,100)\n",
        "D_sums = np.bincount(S, weights=D)\n",
        "D_counts = np.bincount(S)\n",
        "D_means = D_sums / D_counts\n",
        "print(D_means)\n",
        "import pandas as pd\n",
        "print(pd.Series(D).groupby(S).mean())"
      ]
    },
    {
      "cell_type": "markdown",
      "metadata": {
        "id": "UQMkh0hOEbiF"
      },
      "source": [
        "#### 69. How to get the diagonal of a dot product? (★★★) \n",
        "(**hint**: np.diag)"
      ]
    },
    {
      "cell_type": "code",
      "execution_count": 104,
      "metadata": {
        "id": "FJZI5-jHEbiG"
      },
      "outputs": [],
      "source": [
        "arr1 = np.arange(1,10)\n",
        "arr2 = np.arange(10,19)"
      ]
    },
    {
      "cell_type": "code",
      "source": [
        "arr1.reshape((3,3))"
      ],
      "metadata": {
        "colab": {
          "base_uri": "https://localhost:8080/"
        },
        "id": "KlliVsVQbhKF",
        "outputId": "e03f526b-4ecb-4303-cfa7-ef7a0447a991"
      },
      "execution_count": 105,
      "outputs": [
        {
          "output_type": "execute_result",
          "data": {
            "text/plain": [
              "array([[1, 2, 3],\n",
              "       [4, 5, 6],\n",
              "       [7, 8, 9]])"
            ]
          },
          "metadata": {},
          "execution_count": 105
        }
      ]
    },
    {
      "cell_type": "code",
      "source": [
        "arr2.reshape((3,3))"
      ],
      "metadata": {
        "colab": {
          "base_uri": "https://localhost:8080/"
        },
        "id": "TJ9iawkdbsXH",
        "outputId": "77cb3d6e-acd2-4c25-99da-d5343e86e9c9"
      },
      "execution_count": 106,
      "outputs": [
        {
          "output_type": "execute_result",
          "data": {
            "text/plain": [
              "array([[10, 11, 12],\n",
              "       [13, 14, 15],\n",
              "       [16, 17, 18]])"
            ]
          },
          "metadata": {},
          "execution_count": 106
        }
      ]
    },
    {
      "cell_type": "markdown",
      "metadata": {
        "id": "7Eamw2FJEbiG"
      },
      "source": [
        "#### 70. Consider the vector \\[1, 2, 3, 4, 5\\], how to build a new vector with 3 consecutive zeros interleaved between each value? (★★★) \n",
        "(**hint**: array\\[::4\\])"
      ]
    },
    {
      "cell_type": "code",
      "execution_count": 107,
      "metadata": {
        "id": "kjigfq1wEbiH",
        "colab": {
          "base_uri": "https://localhost:8080/"
        },
        "outputId": "2cec9828-6449-4186-92cd-91779713f36b"
      },
      "outputs": [
        {
          "output_type": "stream",
          "name": "stdout",
          "text": [
            "[1. 0. 0. 0. 2. 0. 0. 0. 3. 0. 0. 0. 4. 0. 0. 0. 5.]\n"
          ]
        }
      ],
      "source": [
        "Z = np.array([1,2,3,4,5])\n",
        "nz = 3\n",
        "Z0 = np.zeros(len(Z) + (len(Z)-1)*(nz))\n",
        "Z0[::nz+1] = Z\n",
        "print(Z0)"
      ]
    },
    {
      "cell_type": "markdown",
      "metadata": {
        "id": "tG-qbYQkEbiH"
      },
      "source": [
        "#### 71. Consider an array of dimension (5,5,3), how to mulitply it by an array with dimensions (5,5)? (★★★) \n",
        "(**hint**: array\\[:, :, None\\])"
      ]
    },
    {
      "cell_type": "code",
      "execution_count": 108,
      "metadata": {
        "collapsed": true,
        "id": "UhIlSQF7EbiH",
        "colab": {
          "base_uri": "https://localhost:8080/"
        },
        "outputId": "120b1e1a-d97c-46e9-cddb-6c7634ec4a74"
      },
      "outputs": [
        {
          "output_type": "stream",
          "name": "stdout",
          "text": [
            "[[[2. 2. 2.]\n",
            "  [2. 2. 2.]\n",
            "  [2. 2. 2.]\n",
            "  [2. 2. 2.]\n",
            "  [2. 2. 2.]]\n",
            "\n",
            " [[2. 2. 2.]\n",
            "  [2. 2. 2.]\n",
            "  [2. 2. 2.]\n",
            "  [2. 2. 2.]\n",
            "  [2. 2. 2.]]\n",
            "\n",
            " [[2. 2. 2.]\n",
            "  [2. 2. 2.]\n",
            "  [2. 2. 2.]\n",
            "  [2. 2. 2.]\n",
            "  [2. 2. 2.]]\n",
            "\n",
            " [[2. 2. 2.]\n",
            "  [2. 2. 2.]\n",
            "  [2. 2. 2.]\n",
            "  [2. 2. 2.]\n",
            "  [2. 2. 2.]]\n",
            "\n",
            " [[2. 2. 2.]\n",
            "  [2. 2. 2.]\n",
            "  [2. 2. 2.]\n",
            "  [2. 2. 2.]\n",
            "  [2. 2. 2.]]]\n"
          ]
        }
      ],
      "source": [
        "A = np.ones((5,5,3))\n",
        "B = 2*np.ones((5,5))\n",
        "print(A * B[:,:,None])"
      ]
    },
    {
      "cell_type": "markdown",
      "metadata": {
        "id": "NH_zIaxnEbiH"
      },
      "source": [
        "#### 72. How to swap two rows of an array? (★★★) \n",
        "(**hint**: array\\[\\[\\]\\] = array\\[\\[\\]\\])"
      ]
    },
    {
      "cell_type": "code",
      "execution_count": 109,
      "metadata": {
        "id": "CR64gEG9EbiI",
        "colab": {
          "base_uri": "https://localhost:8080/"
        },
        "outputId": "f1cdb903-e57c-4488-9a10-98f882eb7a47"
      },
      "outputs": [
        {
          "output_type": "stream",
          "name": "stdout",
          "text": [
            "[[2 3]\n",
            " [0 1]]\n"
          ]
        }
      ],
      "source": [
        "A = np.arange(4).reshape(2,2)\n",
        "A[[0,1]] = A[[1,0]]\n",
        "print(A)"
      ]
    },
    {
      "cell_type": "markdown",
      "metadata": {
        "id": "aVVUSIzkEbiI"
      },
      "source": [
        "#### 73. Consider a set of 10 triplets describing 10 triangles (with shared vertices), find the set of unique line segments composing all the  triangles (★★★) \n",
        "(**hint**: repeat, np.roll, np.sort, view, np.unique)"
      ]
    },
    {
      "cell_type": "code",
      "execution_count": 110,
      "metadata": {
        "id": "n5VZgXkoEbiJ",
        "colab": {
          "base_uri": "https://localhost:8080/"
        },
        "outputId": "77686387-34d9-484f-df98-e90e72dc77e3"
      },
      "outputs": [
        {
          "output_type": "stream",
          "name": "stdout",
          "text": [
            "[( 0,  8) ( 0, 33) ( 8, 33) (10, 25) (10, 38) (16, 17) (16, 64) (17, 64)\n",
            " (21, 28) (21, 75) (23, 61) (23, 94) (24, 51) (24, 60) (25, 35) (25, 38)\n",
            " (25, 79) (27, 38) (27, 78) (28, 75) (29, 42) (29, 91) (32, 45) (32, 70)\n",
            " (35, 79) (38, 78) (42, 91) (45, 70) (51, 60) (61, 94)]\n"
          ]
        }
      ],
      "source": [
        "faces = np.random.randint(0,100,(10,3))\n",
        "F = np.roll(faces.repeat(2,axis=1),-1,axis=1)\n",
        "F = F.reshape(len(F)*3,2)\n",
        "F = np.sort(F,axis=1)\n",
        "G = F.view( dtype=[('p0',F.dtype),('p1',F.dtype)] )\n",
        "G = np.unique(G)\n",
        "print(G)"
      ]
    },
    {
      "cell_type": "markdown",
      "metadata": {
        "id": "ylBdEoJBEbiJ"
      },
      "source": [
        "#### 74. Given an array C that is a bincount, how to produce an array A such that np.bincount(A) == C? (★★★) \n",
        "(**hint**: np.repeat)"
      ]
    },
    {
      "cell_type": "code",
      "execution_count": 111,
      "metadata": {
        "id": "8l4K5AlkEbiK",
        "colab": {
          "base_uri": "https://localhost:8080/"
        },
        "outputId": "75fad12c-4c01-4919-adb5-80a3e38718c3"
      },
      "outputs": [
        {
          "output_type": "stream",
          "name": "stdout",
          "text": [
            "[1 1 2 3 4 4 6]\n"
          ]
        }
      ],
      "source": [
        "C = np.bincount([1,1,2,3,4,4,6])\n",
        "A = np.repeat(np.arange(len(C)), C)\n",
        "print(A)"
      ]
    },
    {
      "cell_type": "markdown",
      "metadata": {
        "id": "RcElrpK-EbiK"
      },
      "source": [
        "#### 75. How to compute averages using a sliding window over an array? (★★★) \n",
        "(**hint**: np.cumsum)"
      ]
    },
    {
      "cell_type": "code",
      "execution_count": 112,
      "metadata": {
        "id": "DOxkJ5mHEbiL",
        "colab": {
          "base_uri": "https://localhost:8080/"
        },
        "outputId": "0953c984-5036-4dcb-a3ca-6be4ac2dfa9f"
      },
      "outputs": [
        {
          "output_type": "stream",
          "name": "stdout",
          "text": [
            "[ 1.  2.  3.  4.  5.  6.  7.  8.  9. 10. 11. 12. 13. 14. 15. 16. 17. 18.]\n"
          ]
        }
      ],
      "source": [
        "def moving_average(a, n=3) :\n",
        "    ret = np.cumsum(a, dtype=float)\n",
        "    ret[n:] = ret[n:] - ret[:-n]\n",
        "    return ret[n - 1:] / n\n",
        "Z = np.arange(20)\n",
        "print(moving_average(Z, n=3))"
      ]
    },
    {
      "cell_type": "markdown",
      "metadata": {
        "id": "1iuYq9vREbiL"
      },
      "source": [
        "#### 76. Consider a one-dimensional array Z, build a two-dimensional array whose first row is (Z\\[0\\],Z\\[1\\],Z\\[2\\]) and each subsequent row is  shifted by 1 (last row should be (Z\\[-3\\],Z\\[-2\\],Z\\[-1\\]) (★★★) \n",
        "(**hint**: from numpy.lib import stride_tricks)"
      ]
    },
    {
      "cell_type": "code",
      "execution_count": 113,
      "metadata": {
        "id": "cKfDp1uxEbiL",
        "colab": {
          "base_uri": "https://localhost:8080/"
        },
        "outputId": "432bee9e-c70d-46f7-cea3-7c3a00e85444"
      },
      "outputs": [
        {
          "output_type": "stream",
          "name": "stdout",
          "text": [
            "[[0 1 2 3 4]\n",
            " [1 2 3 4 5]\n",
            " [2 3 4 5 6]\n",
            " [3 4 5 6 7]\n",
            " [4 5 6 7 8]]\n"
          ]
        }
      ],
      "source": [
        "def rolling(a, window):\n",
        "    shape = (a.size - window + 1, window)\n",
        "    strides = (a.itemsize, a.itemsize)\n",
        "    return np.lib.stride_tricks.as_strided(a, shape=shape, strides=strides)\n",
        "Z = rolling(np.arange(9), 5)\n",
        "print(Z)"
      ]
    },
    {
      "cell_type": "markdown",
      "metadata": {
        "id": "RILI6wbREbiL"
      },
      "source": [
        "#### 77. How to negate a boolean, or to change the sign of a float inplace? (★★★) \n",
        "(**hint**: np.logical_not, np.negative)"
      ]
    },
    {
      "cell_type": "code",
      "execution_count": 114,
      "metadata": {
        "id": "de6KIy1jEbiM",
        "colab": {
          "base_uri": "https://localhost:8080/"
        },
        "outputId": "d2543eb4-b30a-4210-87a9-974677d8bb77"
      },
      "outputs": [
        {
          "output_type": "stream",
          "name": "stdout",
          "text": [
            "original: \n",
            "[0 1 1 1 1 1 0 1 1 0]\n",
            "Negating a boolean: \n",
            "[1 0 0 0 0 0 1 0 0 1]\n",
            "Change the sign of float inplace: \n",
            "[-1  0  0  0  0  0 -1  0  0 -1]\n"
          ]
        }
      ],
      "source": [
        "Z = np.random.randint(0,2,10)\n",
        "print ('original: ')\n",
        "print (Z)\n",
        "print('Negating a boolean: ')\n",
        "print(np.logical_not(Z, out=Z))\n",
        "print ('Change the sign of float inplace: ')\n",
        "print(np.negative(Z, out=Z))"
      ]
    },
    {
      "cell_type": "markdown",
      "metadata": {
        "id": "Pf5I58maEbiM"
      },
      "source": [
        "#### 78. Consider 2 sets of points P0,P1 describing lines (2d) and a point p, how to compute distance from p to each line i  (P0\\[i\\],P1\\[i\\])? (★★★)"
      ]
    },
    {
      "cell_type": "code",
      "execution_count": 115,
      "metadata": {
        "id": "F93wmwTiEbiN"
      },
      "outputs": [],
      "source": [
        "def distance(P0, P1, p):\n",
        "    T = P1 - P0\n",
        "    L = (T**2).sum(axis=1)\n",
        "    U = -((P0[:,0]-p[...,0])*T[:,0] + (P0[:,1]-p[...,1])*T[:,1]) / L\n",
        "    U = U.reshape(len(U),1)\n",
        "    D = P0 + U*T - p\n",
        "    return np.sqrt((D**2).sum(axis=1))"
      ]
    },
    {
      "cell_type": "code",
      "source": [
        "P0 = np.random.uniform(-10,10,(10,2))\n",
        "P1 = np.random.uniform(-10,10,(10,2))\n",
        "p  = np.random.uniform(-10,10,( 1,2))\n",
        "print(distance(P0, P1, p))"
      ],
      "metadata": {
        "colab": {
          "base_uri": "https://localhost:8080/"
        },
        "id": "CzG7bgp3c7f3",
        "outputId": "4abd7c48-34b2-4b37-8d67-e8594de4d915"
      },
      "execution_count": 116,
      "outputs": [
        {
          "output_type": "stream",
          "name": "stdout",
          "text": [
            "[ 5.51091159  2.7164424  11.60583414  5.89090873 10.0446876  11.22606499\n",
            "  7.28165959  2.74504502  2.83740136 10.08582826]\n"
          ]
        }
      ]
    },
    {
      "cell_type": "markdown",
      "metadata": {
        "id": "AYd8SMkCEbiN"
      },
      "source": [
        "#### 79. Consider 2 sets of points P0,P1 describing lines (2d) and a set of points P, how to compute distance from each point j (P\\[j\\]) to each line i (P0\\[i\\],P1\\[i\\])? (★★★)"
      ]
    },
    {
      "cell_type": "code",
      "execution_count": 117,
      "metadata": {
        "id": "hSOaYuyrEbiO",
        "colab": {
          "base_uri": "https://localhost:8080/"
        },
        "outputId": "4a9b1ecc-543d-4112-902b-7555dc57ef6e"
      },
      "outputs": [
        {
          "output_type": "stream",
          "name": "stdout",
          "text": [
            "[[ 5.51091159  2.7164424  11.60583414  5.89090873 10.0446876  11.22606499\n",
            "   7.28165959  2.74504502  2.83740136 10.08582826]]\n"
          ]
        }
      ],
      "source": [
        "print (np.array([distance(P0,P1,p_i) for p_i in p]))"
      ]
    },
    {
      "cell_type": "markdown",
      "metadata": {
        "id": "MJlmLO6wEbiO"
      },
      "source": [
        "#### 80. Consider an arbitrary array, write a function that extract a subpart with a fixed shape and centered on a given element (pad with a `fill` value when necessary) (★★★) \n",
        "(**hint**: minimum, maximum)"
      ]
    },
    {
      "cell_type": "code",
      "execution_count": 118,
      "metadata": {
        "id": "h57q-rUGEbiO"
      },
      "outputs": [],
      "source": [
        "Z = np.random.randint(0,10,(10,10))\n",
        "shape = (5,5)\n",
        "fill  = 0\n",
        "position = (1,1)"
      ]
    },
    {
      "cell_type": "code",
      "source": [
        "R = np.ones(shape, dtype=Z.dtype)*fill\n",
        "P  = np.array(list(position)).astype(int)\n",
        "Rs = np.array(list(R.shape)).astype(int)\n",
        "Zs = np.array(list(Z.shape)).astype(int)"
      ],
      "metadata": {
        "id": "RIwySZkydeG5"
      },
      "execution_count": 119,
      "outputs": []
    },
    {
      "cell_type": "code",
      "source": [
        "R_start = np.zeros((len(shape),)).astype(int)\n",
        "R_stop  = np.array(list(shape)).astype(int)\n",
        "Z_start = (P-Rs//2)\n",
        "Z_stop  = (P+Rs//2)+Rs%2"
      ],
      "metadata": {
        "id": "pkzdSxKddfPk"
      },
      "execution_count": 120,
      "outputs": []
    },
    {
      "cell_type": "code",
      "source": [
        "R_start = (R_start - np.minimum(Z_start,0)).tolist()\n",
        "Z_start = (np.maximum(Z_start,0)).tolist()\n",
        "R_stop = np.maximum(R_start, (R_stop - np.maximum(Z_stop-Zs,0))).tolist()\n",
        "Z_stop = (np.minimum(Z_stop,Zs)).tolist()"
      ],
      "metadata": {
        "id": "8rYpqcrcdiV7"
      },
      "execution_count": 121,
      "outputs": []
    },
    {
      "cell_type": "code",
      "source": [
        "r = [slice(start,stop) for start,stop in zip(R_start,R_stop)]\n",
        "z = [slice(start,stop) for start,stop in zip(Z_start,Z_stop)]\n",
        "R[r] = Z[z]\n",
        "print(Z)\n",
        "print(R)"
      ],
      "metadata": {
        "colab": {
          "base_uri": "https://localhost:8080/"
        },
        "id": "QDw5SbGidkjV",
        "outputId": "ced1103a-916c-4c9e-9ca4-9e4eb5f74907"
      },
      "execution_count": 122,
      "outputs": [
        {
          "output_type": "stream",
          "name": "stdout",
          "text": [
            "[[4 9 4 2 8 8 5 5 1 2]\n",
            " [0 0 4 6 4 9 0 7 2 7]\n",
            " [0 5 2 4 7 8 2 3 7 0]\n",
            " [1 3 0 5 4 5 9 9 0 9]\n",
            " [2 2 6 2 2 8 7 8 3 3]\n",
            " [8 1 2 1 5 0 8 5 4 3]\n",
            " [5 9 4 3 5 2 9 4 2 9]\n",
            " [9 3 9 9 4 7 6 7 3 4]\n",
            " [9 8 3 0 5 8 1 3 2 9]\n",
            " [5 6 2 9 7 5 0 6 3 4]]\n",
            "[[0 0 0 0 0]\n",
            " [0 4 9 4 2]\n",
            " [0 0 0 4 6]\n",
            " [0 0 5 2 4]\n",
            " [0 1 3 0 5]]\n"
          ]
        },
        {
          "output_type": "stream",
          "name": "stderr",
          "text": [
            "/usr/local/lib/python3.7/dist-packages/ipykernel_launcher.py:3: FutureWarning: Using a non-tuple sequence for multidimensional indexing is deprecated; use `arr[tuple(seq)]` instead of `arr[seq]`. In the future this will be interpreted as an array index, `arr[np.array(seq)]`, which will result either in an error or a different result.\n",
            "  This is separate from the ipykernel package so we can avoid doing imports until\n"
          ]
        }
      ]
    },
    {
      "cell_type": "markdown",
      "metadata": {
        "id": "jnv_PmRSEbiP"
      },
      "source": [
        "#### 81. Consider an array Z = \\[1,2,3,4,5,6,7,8,9,10,11,12,13,14\\], how to generate an array R = \\[\\[1,2,3,4\\], \\[2,3,4,5\\], \\[3,4,5,6\\], ..., \\[11,12,13,14\\]\\]? (★★★) \n",
        "(**hint**: stride\\_tricks.as\\_strided)"
      ]
    },
    {
      "cell_type": "code",
      "execution_count": 123,
      "metadata": {
        "id": "seMlrLBjEbiP",
        "colab": {
          "base_uri": "https://localhost:8080/"
        },
        "outputId": "b4eedafe-6390-4299-dd6b-842d801185b1"
      },
      "outputs": [
        {
          "output_type": "stream",
          "name": "stdout",
          "text": [
            "original: \n",
            "[ 1  2  3  4  5  6  7  8  9 10 11 12 13 14]\n",
            "after strides: \n",
            "[[ 1  2  3  4]\n",
            " [ 2  3  4  5]\n",
            " [ 3  4  5  6]\n",
            " [ 4  5  6  7]\n",
            " [ 5  6  7  8]\n",
            " [ 6  7  8  9]\n",
            " [ 7  8  9 10]\n",
            " [ 8  9 10 11]\n",
            " [ 9 10 11 12]\n",
            " [10 11 12 13]\n",
            " [11 12 13 14]]\n"
          ]
        }
      ],
      "source": [
        "Z = np.arange(1,15,dtype=int)\n",
        "\n",
        "def rolling(a, window):\n",
        "    shape = (a.size - window + 1, window)\n",
        "    strides = (a.itemsize, a.itemsize)\n",
        "    return np.lib.stride_tricks.as_strided(a, shape=shape, strides=strides)\n",
        "R = rolling(Z, 4)\n",
        "print ('original: ')\n",
        "print (Z)\n",
        "print ('after strides: ')\n",
        "print(R)"
      ]
    },
    {
      "cell_type": "markdown",
      "metadata": {
        "id": "fMur_xiGEbiQ"
      },
      "source": [
        "#### 82. Compute a matrix rank (★★★) \n",
        "(**hint**: np.linalg.svd) (suggestion: np.linalg.svd)"
      ]
    },
    {
      "cell_type": "code",
      "execution_count": 124,
      "metadata": {
        "id": "QA5giSNkEbiT",
        "colab": {
          "base_uri": "https://localhost:8080/"
        },
        "outputId": "9c46f4ec-8fcd-4780-bada-4855c7a5d70a"
      },
      "outputs": [
        {
          "output_type": "stream",
          "name": "stdout",
          "text": [
            "10\n"
          ]
        }
      ],
      "source": [
        "Z = np.random.uniform(0,1,(10,10))\n",
        "U, S, V = np.linalg.svd(Z) \n",
        "rank = np.sum(S > 1e-10)\n",
        "print (rank)"
      ]
    },
    {
      "cell_type": "markdown",
      "metadata": {
        "id": "gsEVk751EbiU"
      },
      "source": [
        "#### 83. How to find the most frequent value in an array? \n",
        "(**hint**: np.bincount, argmax)"
      ]
    },
    {
      "cell_type": "code",
      "execution_count": 125,
      "metadata": {
        "id": "MY7HXvm9EbiU",
        "colab": {
          "base_uri": "https://localhost:8080/"
        },
        "outputId": "2e02dd8d-7629-4464-d5fe-45c8275bc3bf"
      },
      "outputs": [
        {
          "output_type": "execute_result",
          "data": {
            "text/plain": [
              "3"
            ]
          },
          "metadata": {},
          "execution_count": 125
        }
      ],
      "source": [
        "a=np.random.randint(1,10,5)\n",
        "np.bincount(a).argmax()"
      ]
    },
    {
      "cell_type": "markdown",
      "metadata": {
        "id": "QyVajw-uEbiU"
      },
      "source": [
        "#### 84. Extract all the contiguous 3x3 blocks from a random 10x10 matrix (★★★) \n",
        "(**hint**: stride\\_tricks.as\\_strided)"
      ]
    },
    {
      "cell_type": "code",
      "execution_count": 126,
      "metadata": {
        "id": "GJXqxERsEbiV",
        "colab": {
          "base_uri": "https://localhost:8080/"
        },
        "outputId": "e8114640-264f-4204-87b6-296990a05b18"
      },
      "outputs": [
        {
          "output_type": "stream",
          "name": "stdout",
          "text": [
            "[[[[0 3 4]\n",
            "   [4 1 0]\n",
            "   [4 3 3]]\n",
            "\n",
            "  [[3 4 1]\n",
            "   [1 0 4]\n",
            "   [3 3 4]]\n",
            "\n",
            "  [[4 1 4]\n",
            "   [0 4 0]\n",
            "   [3 4 3]]\n",
            "\n",
            "  [[1 4 1]\n",
            "   [4 0 3]\n",
            "   [4 3 0]]\n",
            "\n",
            "  [[4 1 0]\n",
            "   [0 3 0]\n",
            "   [3 0 2]]\n",
            "\n",
            "  [[1 0 3]\n",
            "   [3 0 1]\n",
            "   [0 2 4]]\n",
            "\n",
            "  [[0 3 2]\n",
            "   [0 1 1]\n",
            "   [2 4 2]]\n",
            "\n",
            "  [[3 2 4]\n",
            "   [1 1 3]\n",
            "   [4 2 0]]]\n",
            "\n",
            "\n",
            " [[[4 1 0]\n",
            "   [4 3 3]\n",
            "   [0 2 4]]\n",
            "\n",
            "  [[1 0 4]\n",
            "   [3 3 4]\n",
            "   [2 4 1]]\n",
            "\n",
            "  [[0 4 0]\n",
            "   [3 4 3]\n",
            "   [4 1 4]]\n",
            "\n",
            "  [[4 0 3]\n",
            "   [4 3 0]\n",
            "   [1 4 2]]\n",
            "\n",
            "  [[0 3 0]\n",
            "   [3 0 2]\n",
            "   [4 2 3]]\n",
            "\n",
            "  [[3 0 1]\n",
            "   [0 2 4]\n",
            "   [2 3 2]]\n",
            "\n",
            "  [[0 1 1]\n",
            "   [2 4 2]\n",
            "   [3 2 0]]\n",
            "\n",
            "  [[1 1 3]\n",
            "   [4 2 0]\n",
            "   [2 0 2]]]\n",
            "\n",
            "\n",
            " [[[4 3 3]\n",
            "   [0 2 4]\n",
            "   [3 2 3]]\n",
            "\n",
            "  [[3 3 4]\n",
            "   [2 4 1]\n",
            "   [2 3 1]]\n",
            "\n",
            "  [[3 4 3]\n",
            "   [4 1 4]\n",
            "   [3 1 0]]\n",
            "\n",
            "  [[4 3 0]\n",
            "   [1 4 2]\n",
            "   [1 0 2]]\n",
            "\n",
            "  [[3 0 2]\n",
            "   [4 2 3]\n",
            "   [0 2 3]]\n",
            "\n",
            "  [[0 2 4]\n",
            "   [2 3 2]\n",
            "   [2 3 3]]\n",
            "\n",
            "  [[2 4 2]\n",
            "   [3 2 0]\n",
            "   [3 3 0]]\n",
            "\n",
            "  [[4 2 0]\n",
            "   [2 0 2]\n",
            "   [3 0 1]]]\n",
            "\n",
            "\n",
            " [[[0 2 4]\n",
            "   [3 2 3]\n",
            "   [3 4 0]]\n",
            "\n",
            "  [[2 4 1]\n",
            "   [2 3 1]\n",
            "   [4 0 4]]\n",
            "\n",
            "  [[4 1 4]\n",
            "   [3 1 0]\n",
            "   [0 4 0]]\n",
            "\n",
            "  [[1 4 2]\n",
            "   [1 0 2]\n",
            "   [4 0 2]]\n",
            "\n",
            "  [[4 2 3]\n",
            "   [0 2 3]\n",
            "   [0 2 2]]\n",
            "\n",
            "  [[2 3 2]\n",
            "   [2 3 3]\n",
            "   [2 2 4]]\n",
            "\n",
            "  [[3 2 0]\n",
            "   [3 3 0]\n",
            "   [2 4 3]]\n",
            "\n",
            "  [[2 0 2]\n",
            "   [3 0 1]\n",
            "   [4 3 3]]]\n",
            "\n",
            "\n",
            " [[[3 2 3]\n",
            "   [3 4 0]\n",
            "   [1 1 3]]\n",
            "\n",
            "  [[2 3 1]\n",
            "   [4 0 4]\n",
            "   [1 3 2]]\n",
            "\n",
            "  [[3 1 0]\n",
            "   [0 4 0]\n",
            "   [3 2 2]]\n",
            "\n",
            "  [[1 0 2]\n",
            "   [4 0 2]\n",
            "   [2 2 4]]\n",
            "\n",
            "  [[0 2 3]\n",
            "   [0 2 2]\n",
            "   [2 4 1]]\n",
            "\n",
            "  [[2 3 3]\n",
            "   [2 2 4]\n",
            "   [4 1 4]]\n",
            "\n",
            "  [[3 3 0]\n",
            "   [2 4 3]\n",
            "   [1 4 0]]\n",
            "\n",
            "  [[3 0 1]\n",
            "   [4 3 3]\n",
            "   [4 0 2]]]\n",
            "\n",
            "\n",
            " [[[3 4 0]\n",
            "   [1 1 3]\n",
            "   [2 4 2]]\n",
            "\n",
            "  [[4 0 4]\n",
            "   [1 3 2]\n",
            "   [4 2 2]]\n",
            "\n",
            "  [[0 4 0]\n",
            "   [3 2 2]\n",
            "   [2 2 1]]\n",
            "\n",
            "  [[4 0 2]\n",
            "   [2 2 4]\n",
            "   [2 1 0]]\n",
            "\n",
            "  [[0 2 2]\n",
            "   [2 4 1]\n",
            "   [1 0 0]]\n",
            "\n",
            "  [[2 2 4]\n",
            "   [4 1 4]\n",
            "   [0 0 3]]\n",
            "\n",
            "  [[2 4 3]\n",
            "   [1 4 0]\n",
            "   [0 3 0]]\n",
            "\n",
            "  [[4 3 3]\n",
            "   [4 0 2]\n",
            "   [3 0 1]]]\n",
            "\n",
            "\n",
            " [[[1 1 3]\n",
            "   [2 4 2]\n",
            "   [3 2 3]]\n",
            "\n",
            "  [[1 3 2]\n",
            "   [4 2 2]\n",
            "   [2 3 1]]\n",
            "\n",
            "  [[3 2 2]\n",
            "   [2 2 1]\n",
            "   [3 1 4]]\n",
            "\n",
            "  [[2 2 4]\n",
            "   [2 1 0]\n",
            "   [1 4 1]]\n",
            "\n",
            "  [[2 4 1]\n",
            "   [1 0 0]\n",
            "   [4 1 4]]\n",
            "\n",
            "  [[4 1 4]\n",
            "   [0 0 3]\n",
            "   [1 4 3]]\n",
            "\n",
            "  [[1 4 0]\n",
            "   [0 3 0]\n",
            "   [4 3 3]]\n",
            "\n",
            "  [[4 0 2]\n",
            "   [3 0 1]\n",
            "   [3 3 1]]]\n",
            "\n",
            "\n",
            " [[[2 4 2]\n",
            "   [3 2 3]\n",
            "   [3 1 1]]\n",
            "\n",
            "  [[4 2 2]\n",
            "   [2 3 1]\n",
            "   [1 1 0]]\n",
            "\n",
            "  [[2 2 1]\n",
            "   [3 1 4]\n",
            "   [1 0 3]]\n",
            "\n",
            "  [[2 1 0]\n",
            "   [1 4 1]\n",
            "   [0 3 3]]\n",
            "\n",
            "  [[1 0 0]\n",
            "   [4 1 4]\n",
            "   [3 3 1]]\n",
            "\n",
            "  [[0 0 3]\n",
            "   [1 4 3]\n",
            "   [3 1 4]]\n",
            "\n",
            "  [[0 3 0]\n",
            "   [4 3 3]\n",
            "   [1 4 1]]\n",
            "\n",
            "  [[3 0 1]\n",
            "   [3 3 1]\n",
            "   [4 1 1]]]]\n"
          ]
        }
      ],
      "source": [
        "Z=np.random.randint(0,5,(10,10))\n",
        "from numpy.lib import stride_tricks\n",
        "n=3\n",
        "i=1+(Z.shape[0]-3)\n",
        "j=1+(Z.shape[1]-3)\n",
        "C=stride_tricks.as_strided(Z, shape=(i, j, n, n), strides=Z.strides + Z.strides)\n",
        "print(C)"
      ]
    },
    {
      "cell_type": "markdown",
      "metadata": {
        "id": "J6Tkji-BEbiV"
      },
      "source": [
        "#### 85. Create a 2D array subclass such that Z\\[i,j\\] == Z\\[j,i\\] (★★★) \n",
        "(**hint**: class method)"
      ]
    },
    {
      "cell_type": "code",
      "execution_count": 127,
      "metadata": {
        "id": "Kme6_WrjEbiV",
        "colab": {
          "base_uri": "https://localhost:8080/"
        },
        "outputId": "1d6f814d-bfd3-4c83-c1d5-71f67096cc26"
      },
      "outputs": [
        {
          "output_type": "stream",
          "name": "stdout",
          "text": [
            "[[ 7  0 10 13 15]\n",
            " [ 0  4 10  4 11]\n",
            " [10 10  5 42  6]\n",
            " [13  4 42  5  8]\n",
            " [15 11  6  8  9]]\n"
          ]
        }
      ],
      "source": [
        "class Symetric(np.ndarray):\n",
        "    def __setitem__(self, index, value):\n",
        "        i,j = index\n",
        "        super(Symetric, self).__setitem__((i,j), value)\n",
        "        super(Symetric, self).__setitem__((j,i), value)\n",
        "def symetric(Z):\n",
        "    return np.asarray(Z + Z.T - np.diag(Z.diagonal())).view(Symetric)\n",
        "S = symetric(np.random.randint(0,10,(5,5)))\n",
        "S[2,3] = 42\n",
        "print(S)"
      ]
    },
    {
      "cell_type": "markdown",
      "metadata": {
        "id": "bQijI70MEbiW"
      },
      "source": [
        "#### 86. Consider a set of p matrices wich shape (n,n) and a set of p vectors with shape (n,1). How to compute the sum of of the p matrix products at once? (result has shape (n,1)) (★★★) \n",
        "(**hint**: np.tensordot)"
      ]
    },
    {
      "cell_type": "code",
      "execution_count": 128,
      "metadata": {
        "id": "KTIEIzkREbiW",
        "colab": {
          "base_uri": "https://localhost:8080/"
        },
        "outputId": "79896bc7-4b39-4a29-d24c-d8aa1e1f17c0"
      },
      "outputs": [
        {
          "output_type": "stream",
          "name": "stdout",
          "text": [
            "[[200.]\n",
            " [200.]\n",
            " [200.]\n",
            " [200.]\n",
            " [200.]\n",
            " [200.]\n",
            " [200.]\n",
            " [200.]\n",
            " [200.]\n",
            " [200.]\n",
            " [200.]\n",
            " [200.]\n",
            " [200.]\n",
            " [200.]\n",
            " [200.]\n",
            " [200.]\n",
            " [200.]\n",
            " [200.]\n",
            " [200.]\n",
            " [200.]]\n"
          ]
        }
      ],
      "source": [
        "p,n= 10, 20\n",
        "M=np.ones((p,n,n))\n",
        "V=np.ones((p,n,1))\n",
        "S=np.tensordot(M, V, axes=[[0, 2], [0, 1]])\n",
        "print(S)"
      ]
    },
    {
      "cell_type": "markdown",
      "metadata": {
        "id": "AdVK4tTHEbiW"
      },
      "source": [
        "#### 87. Consider a 16x16 array, how to get the block-sum (block size is 4x4)? (★★★) \n",
        "(**hint**: np.add.reduceat)"
      ]
    },
    {
      "cell_type": "code",
      "execution_count": 129,
      "metadata": {
        "id": "BJFxJGFJEbiX",
        "colab": {
          "base_uri": "https://localhost:8080/"
        },
        "outputId": "fa594706-8451-4ebd-85ba-6f3cc82f3752"
      },
      "outputs": [
        {
          "output_type": "stream",
          "name": "stdout",
          "text": [
            "[[16. 16. 16. 16.]\n",
            " [16. 16. 16. 16.]\n",
            " [16. 16. 16. 16.]\n",
            " [16. 16. 16. 16.]]\n"
          ]
        }
      ],
      "source": [
        "Z=np.ones((16,16))\n",
        "k=4\n",
        "S=np.add.reduceat(np.add.reduceat(Z, np.arange(0, Z.shape[0], k), axis=0),\n",
        "                                       np.arange(0, Z.shape[1], k), axis=1)\n",
        "print(S)"
      ]
    },
    {
      "cell_type": "markdown",
      "metadata": {
        "id": "zUseroweEbiX"
      },
      "source": [
        "#### 88. How to implement the Game of Life using numpy arrays? (★★★)"
      ]
    },
    {
      "cell_type": "code",
      "execution_count": 130,
      "metadata": {
        "id": "xlzm2N-uEbiY",
        "colab": {
          "base_uri": "https://localhost:8080/"
        },
        "outputId": "9989ea4e-d7f3-4bcf-eeba-75d806352934"
      },
      "outputs": [
        {
          "output_type": "stream",
          "name": "stdout",
          "text": [
            "[[0 0 0 0 0 0 0 0 0 0 0 0 0 0 0 0 0 0 0 0 0 0 0 0 0 0 0 0 0 0 0 0 0 0 0 0\n",
            "  0 0 0 0 0 0 0 0 0 0 0 0 0 0]\n",
            " [0 0 0 1 0 0 0 0 0 0 1 0 0 0 0 0 0 0 0 0 0 0 0 0 0 0 0 0 0 0 0 0 0 1 1 1\n",
            "  0 0 1 0 0 0 0 0 0 0 0 0 0 0]\n",
            " [0 0 0 1 0 0 0 0 1 0 1 1 1 0 0 0 0 0 0 0 0 0 0 0 1 0 0 0 0 0 0 0 1 1 0 0\n",
            "  0 0 0 1 0 0 0 0 1 1 0 0 0 0]\n",
            " [0 0 0 0 0 0 0 0 0 0 0 1 0 0 1 0 0 0 0 0 0 0 1 1 0 1 0 0 0 0 0 0 0 1 0 0\n",
            "  0 0 1 0 0 0 0 0 0 1 1 0 0 0]\n",
            " [0 0 0 0 0 0 1 0 1 0 0 0 0 0 1 1 0 0 0 0 0 0 0 1 1 0 0 0 0 0 0 0 0 0 0 0\n",
            "  0 0 1 0 0 0 0 1 0 1 0 0 0 0]\n",
            " [0 0 0 0 0 0 1 0 1 1 1 1 0 0 1 0 1 1 0 0 0 0 0 0 1 1 1 0 0 0 0 0 0 1 0 0\n",
            "  0 0 0 0 0 0 1 0 0 0 1 0 0 0]\n",
            " [0 0 0 0 0 0 1 0 1 1 1 1 1 0 0 1 1 1 0 0 0 0 0 0 0 0 1 1 0 0 0 0 0 1 0 1\n",
            "  1 0 0 0 0 0 0 0 0 0 0 0 0 0]\n",
            " [0 0 0 0 0 0 0 1 0 0 0 0 0 0 0 0 0 1 1 1 0 0 0 0 0 0 1 0 1 0 0 0 0 0 1 1\n",
            "  1 0 0 0 0 0 0 1 1 0 0 0 0 0]\n",
            " [0 0 0 0 0 0 0 0 0 0 0 0 0 0 0 0 0 0 0 1 0 0 0 0 0 0 0 1 1 0 0 0 0 0 1 1\n",
            "  0 1 1 0 0 0 0 0 0 1 1 0 0 0]\n",
            " [0 0 0 0 0 0 0 0 1 0 0 0 0 0 0 0 0 0 1 0 0 0 0 0 0 0 0 0 0 0 0 0 0 0 0 1\n",
            "  0 1 0 0 0 0 0 0 0 1 0 0 0 0]\n",
            " [0 0 0 0 0 0 1 1 1 1 0 0 0 0 0 0 0 1 0 0 0 0 0 0 0 0 0 0 0 0 0 0 0 0 1 1\n",
            "  0 1 1 0 0 0 0 0 0 0 0 1 0 0]\n",
            " [0 0 0 0 0 1 0 0 0 0 0 0 0 0 0 0 1 0 0 0 0 1 1 0 0 0 0 0 0 0 0 0 0 0 0 1\n",
            "  0 0 1 0 0 0 0 0 0 0 0 1 0 0]\n",
            " [0 0 0 0 1 0 0 0 0 0 1 0 0 0 0 0 0 0 0 1 1 0 0 1 0 0 0 0 0 0 0 0 0 0 0 0\n",
            "  1 1 0 0 0 1 0 1 0 0 0 0 0 0]\n",
            " [0 0 0 0 1 0 0 0 0 0 0 0 0 0 1 0 0 0 0 0 1 0 0 0 0 0 0 1 1 0 0 0 0 0 0 0\n",
            "  0 0 0 0 1 1 0 1 1 0 0 1 0 0]\n",
            " [0 0 0 0 0 1 1 0 0 0 1 0 0 1 0 1 0 0 1 0 0 1 0 0 0 0 0 0 0 0 0 0 0 0 0 0\n",
            "  0 0 0 0 0 0 0 0 0 0 0 0 1 0]\n",
            " [0 0 0 0 0 0 0 0 0 0 0 1 1 0 0 1 1 1 1 0 0 1 1 1 0 0 0 0 0 1 0 0 0 0 0 0\n",
            "  0 0 0 0 0 0 1 0 0 0 0 0 1 0]\n",
            " [0 0 0 0 0 0 0 1 0 0 0 1 1 1 1 1 0 1 0 0 1 0 1 0 0 0 0 0 0 1 0 0 0 0 0 0\n",
            "  0 0 0 0 0 0 1 0 0 0 0 0 1 0]\n",
            " [0 0 0 0 0 0 0 0 0 0 1 0 0 0 0 1 1 1 0 0 0 0 1 1 0 0 0 0 0 0 0 0 0 0 0 0\n",
            "  0 0 0 0 0 0 0 1 0 0 0 0 1 0]\n",
            " [0 0 0 0 0 0 0 1 1 0 1 0 0 0 0 0 0 0 0 0 0 1 0 0 0 1 0 0 0 0 0 0 0 0 0 0\n",
            "  0 0 0 0 0 0 0 0 0 1 0 0 1 0]\n",
            " [0 0 0 0 0 0 0 0 1 1 1 0 1 0 0 0 0 0 1 1 0 1 1 0 0 1 1 0 0 0 0 0 0 0 0 0\n",
            "  0 0 0 0 0 1 0 0 0 1 1 0 1 0]\n",
            " [0 0 0 0 0 0 0 0 0 0 1 0 0 0 0 0 0 0 1 1 0 0 0 0 1 1 1 1 0 0 0 0 0 0 0 0\n",
            "  0 0 0 0 1 1 1 0 1 0 1 1 1 0]\n",
            " [0 0 0 0 0 0 0 0 0 0 0 0 0 0 0 0 0 0 0 0 0 1 1 0 1 0 0 1 0 0 0 0 0 0 0 0\n",
            "  0 0 0 1 0 1 1 0 1 0 1 1 1 0]\n",
            " [0 0 0 0 0 0 0 0 0 0 0 0 0 0 0 0 0 0 0 0 1 0 0 0 1 0 0 1 0 0 0 0 0 0 0 0\n",
            "  0 0 1 1 0 0 1 0 0 0 0 1 0 0]\n",
            " [0 0 0 0 0 0 0 0 0 0 0 0 0 0 0 0 0 0 0 0 0 0 0 0 1 0 0 1 0 0 0 0 0 0 0 0\n",
            "  0 0 0 1 1 1 1 1 1 1 1 0 0 0]\n",
            " [0 0 0 0 0 0 1 1 1 0 0 0 0 0 0 0 0 0 0 0 0 0 0 0 0 0 1 1 0 0 0 0 0 0 0 0\n",
            "  0 0 1 1 1 1 1 1 1 1 1 0 0 0]\n",
            " [0 0 0 0 0 1 0 0 0 1 0 0 0 0 0 0 0 0 0 0 0 0 0 0 0 0 1 0 1 0 0 0 0 0 0 0\n",
            "  0 0 1 0 0 0 0 0 0 0 0 0 0 0]\n",
            " [0 0 0 0 1 0 0 0 0 0 1 0 0 0 0 0 0 0 0 0 0 0 0 0 0 0 0 1 0 0 0 0 0 0 0 0\n",
            "  1 1 0 0 0 0 0 0 0 0 0 0 0 0]\n",
            " [0 0 0 0 1 0 0 0 0 0 1 0 0 0 0 0 0 0 0 0 0 0 0 0 0 0 0 0 0 0 0 0 0 0 0 0\n",
            "  1 1 1 1 0 1 0 0 0 0 0 0 0 0]\n",
            " [0 0 0 0 1 0 0 0 0 1 0 0 0 0 0 0 0 0 0 0 1 0 0 0 0 0 0 0 0 0 0 0 0 0 0 0\n",
            "  0 0 1 1 0 0 0 1 0 0 0 0 0 0]\n",
            " [0 0 0 0 0 1 0 0 1 0 0 0 0 0 0 0 0 0 0 0 1 0 0 0 0 0 0 0 1 0 0 0 0 0 0 0\n",
            "  0 0 0 0 1 0 0 0 1 1 0 0 0 0]\n",
            " [0 0 0 0 0 0 0 1 0 0 0 0 0 0 0 0 0 0 0 1 0 0 0 0 0 0 0 1 1 1 0 0 0 0 0 0\n",
            "  0 0 0 0 0 1 0 0 0 1 0 0 0 0]\n",
            " [0 0 0 0 0 0 0 0 0 0 0 0 0 0 0 0 0 0 0 0 0 0 0 0 0 0 0 0 0 0 0 0 0 0 0 0\n",
            "  0 0 0 0 0 0 1 0 0 0 0 0 0 0]\n",
            " [0 0 0 0 0 0 0 0 1 0 0 0 0 0 1 0 1 1 0 0 0 0 0 0 0 0 0 0 1 0 0 0 0 0 0 0\n",
            "  0 0 0 0 0 0 1 0 0 1 0 0 0 0]\n",
            " [0 0 0 0 0 0 1 1 1 0 0 0 1 1 1 0 0 1 1 0 0 0 0 0 0 0 0 0 0 0 0 1 0 0 0 0\n",
            "  0 0 0 0 0 0 1 0 0 1 0 0 0 0]\n",
            " [0 0 0 0 0 1 0 0 1 0 0 0 1 0 0 0 0 0 1 0 0 0 0 0 0 0 0 0 1 0 0 1 0 0 0 0\n",
            "  0 0 0 0 1 1 0 0 1 0 0 0 0 0]\n",
            " [0 0 0 0 0 1 1 0 0 0 0 0 1 1 0 0 1 1 1 0 0 0 0 0 0 0 0 0 1 1 0 0 0 0 0 0\n",
            "  0 0 0 0 0 1 1 1 0 0 0 0 0 0]\n",
            " [0 0 0 0 0 0 0 0 0 0 0 0 0 1 0 1 0 0 0 0 0 0 0 0 0 0 0 0 0 0 0 0 0 0 0 0\n",
            "  0 0 0 0 0 0 1 0 0 0 0 0 0 0]\n",
            " [0 0 0 0 0 0 0 0 0 0 0 0 0 0 1 0 0 0 0 0 0 0 0 0 0 0 0 0 0 0 0 0 0 0 0 0\n",
            "  0 0 0 0 0 0 0 0 0 0 0 0 0 0]\n",
            " [0 0 0 0 0 0 0 0 0 1 0 0 0 0 1 0 1 0 0 0 0 0 0 0 0 0 0 0 0 0 0 0 0 0 0 0\n",
            "  0 0 0 0 0 0 0 0 0 0 0 0 0 0]\n",
            " [0 0 0 0 0 0 0 1 1 1 0 0 0 0 0 1 0 0 0 0 0 0 0 0 0 0 0 0 0 0 0 0 0 0 0 0\n",
            "  0 0 0 0 0 0 0 0 0 0 0 0 0 0]\n",
            " [0 0 0 0 0 0 1 1 1 1 0 0 0 0 0 0 0 0 0 0 0 1 1 1 1 0 0 0 0 0 0 0 0 0 0 0\n",
            "  0 0 0 0 0 0 0 0 0 0 0 0 0 0]\n",
            " [0 0 0 0 0 1 0 0 0 1 0 0 0 0 0 0 0 0 0 0 1 0 0 1 1 1 0 0 0 1 1 1 1 1 1 1\n",
            "  1 0 0 0 0 0 0 0 0 0 0 0 0 0]\n",
            " [0 0 0 0 0 1 0 1 1 0 0 0 0 0 0 0 0 0 0 0 0 0 0 0 0 0 1 0 0 0 0 1 1 1 0 1\n",
            "  0 0 0 0 1 0 0 0 0 0 0 0 0 0]\n",
            " [0 0 0 0 0 0 1 1 0 0 0 0 0 0 0 0 0 0 0 0 0 1 1 1 0 0 0 0 0 0 1 0 0 0 0 1\n",
            "  0 0 0 1 1 1 0 0 0 0 0 0 0 0]\n",
            " [0 0 0 0 0 0 0 0 0 0 0 0 0 0 0 0 0 0 0 0 0 0 0 0 0 0 0 0 0 0 0 1 1 0 0 0\n",
            "  1 0 0 0 1 0 0 0 0 0 0 0 0 0]\n",
            " [0 0 0 0 0 0 0 0 0 0 0 0 0 0 0 0 0 0 0 0 0 0 0 0 0 0 0 0 0 0 0 1 1 0 0 1\n",
            "  0 0 0 0 1 0 0 0 0 0 0 0 0 0]\n",
            " [0 0 0 0 0 0 0 0 0 0 0 0 0 0 0 0 0 0 0 0 0 0 0 0 1 0 1 1 0 0 0 0 0 1 1 1\n",
            "  0 0 0 0 0 0 0 0 0 0 1 1 0 0]\n",
            " [0 0 0 0 0 0 0 0 0 0 0 0 0 0 0 0 0 0 0 0 0 0 0 0 1 0 0 1 0 0 0 0 0 0 0 0\n",
            "  0 0 0 0 0 0 0 0 0 0 0 0 0 0]\n",
            " [0 0 0 0 0 0 0 0 0 0 0 0 0 0 0 0 0 0 0 0 0 0 0 0 0 0 1 1 0 0 0 0 0 0 0 0\n",
            "  0 0 0 0 0 0 0 0 0 0 0 0 0 0]\n",
            " [0 0 0 0 0 0 0 0 0 0 0 0 0 0 0 0 0 0 0 0 0 0 0 0 0 0 0 0 0 0 0 0 0 0 0 0\n",
            "  0 0 0 0 0 0 0 0 0 0 0 0 0 0]]\n"
          ]
        }
      ],
      "source": [
        "def iterate(Z):\n",
        "    N = (Z[0:-2,0:-2] + Z[0:-2,1:-1] + Z[0:-2,2:] +\n",
        "         Z[1:-1,0:-2]                + Z[1:-1,2:] +\n",
        "         Z[2:  ,0:-2] + Z[2:  ,1:-1] + Z[2:  ,2:])\n",
        "    birth = (N==3) & (Z[1:-1,1:-1]==0)\n",
        "    survive = ((N==2) | (N==3)) & (Z[1:-1,1:-1]==1)\n",
        "    Z[...] = 0\n",
        "    Z[1:-1,1:-1][birth | survive] = 1\n",
        "    return Z\n",
        "Z = np.random.randint(0,2,(50,50))\n",
        "for i in range(10): Z = iterate(Z)\n",
        "print(Z)"
      ]
    },
    {
      "cell_type": "markdown",
      "metadata": {
        "id": "OieZCAAXEbiY"
      },
      "source": [
        "#### 89. How to get the n largest values of an array (★★★) \n",
        "(**hint**: np.argsort | np.argpartition)"
      ]
    },
    {
      "cell_type": "code",
      "execution_count": 131,
      "metadata": {
        "id": "tssAENOSEbiZ",
        "colab": {
          "base_uri": "https://localhost:8080/"
        },
        "outputId": "5ad7a307-34da-40c6-fdac-a3dd1fcf79f5"
      },
      "outputs": [
        {
          "output_type": "stream",
          "name": "stdout",
          "text": [
            "[95 96 97 98 99]\n",
            "[98 96 97 99 95]\n"
          ]
        }
      ],
      "source": [
        "Z = np.arange(100)\n",
        "np.random.shuffle(Z)\n",
        "n = 5\n",
        "print (Z[np.argsort(Z)[-n:]])\n",
        "print (Z[np.argpartition(-Z,n)[:n]])"
      ]
    },
    {
      "cell_type": "markdown",
      "metadata": {
        "id": "qnKwjLmYEbiZ"
      },
      "source": [
        "#### 90. Given an arbitrary number of vectors, build the cartesian product (every combinations of every item) (★★★) \n",
        "(**hint**: np.indices)"
      ]
    },
    {
      "cell_type": "code",
      "execution_count": 132,
      "metadata": {
        "scrolled": true,
        "id": "mUw7lkj-EbiZ",
        "colab": {
          "base_uri": "https://localhost:8080/"
        },
        "outputId": "552e7de8-b44d-4228-e596-c94801aecc59"
      },
      "outputs": [
        {
          "output_type": "stream",
          "name": "stdout",
          "text": [
            "[[1 4 6]\n",
            " [1 4 7]\n",
            " [1 5 6]\n",
            " [1 5 7]\n",
            " [2 4 6]\n",
            " [2 4 7]\n",
            " [2 5 6]\n",
            " [2 5 7]\n",
            " [3 4 6]\n",
            " [3 4 7]\n",
            " [3 5 6]\n",
            " [3 5 7]]\n"
          ]
        }
      ],
      "source": [
        "def cartesian(arrays):\n",
        "    arrays = [np.asarray(a) for a in arrays]\n",
        "    shape = (len(x) for x in arrays)\n",
        "    ix = np.indices(shape, dtype=int)\n",
        "    ix = ix.reshape(len(arrays), -1).T\n",
        "    for n, arr in enumerate(arrays):\n",
        "        ix[:, n] = arrays[n][ix[:, n]]\n",
        "    return ix\n",
        "print (cartesian(([1, 2, 3], [4, 5], [6, 7])))"
      ]
    },
    {
      "cell_type": "markdown",
      "metadata": {
        "id": "sllJqvBnEbia"
      },
      "source": [
        "#### 91. How to create a record array from a regular array? (★★★) \n",
        "(**hint**: np.core.records.fromarrays)"
      ]
    },
    {
      "cell_type": "code",
      "execution_count": 133,
      "metadata": {
        "id": "EFbMak3AEbia",
        "colab": {
          "base_uri": "https://localhost:8080/"
        },
        "outputId": "dd436050-f71b-4f8e-aff9-ebc918ac2cf8"
      },
      "outputs": [
        {
          "output_type": "stream",
          "name": "stdout",
          "text": [
            "[(b'hello', 2.5, 3) (b'world', 3.6, 2)]\n"
          ]
        }
      ],
      "source": [
        "z=np.array([(\"hello\",2.5,3),\n",
        "            (\"world\",3.6,2)])\n",
        "r=np.core.records.fromarrays(z.T,names='col1,col2,col3',formats='S8,f8,i8')\n",
        "print(r)"
      ]
    },
    {
      "cell_type": "markdown",
      "metadata": {
        "id": "CqUqnVewEbia"
      },
      "source": [
        "#### 92. Consider a large vector Z, compute Z to the power of 3 using 3 different methods (★★★) \n",
        "(**hint**: np.power, \\*, np.einsum)"
      ]
    },
    {
      "cell_type": "code",
      "execution_count": 134,
      "metadata": {
        "id": "mWt5iz_2Ebib",
        "colab": {
          "base_uri": "https://localhost:8080/"
        },
        "outputId": "33ef3625-b255-487e-bf68-203c86bae523"
      },
      "outputs": [
        {
          "output_type": "stream",
          "name": "stdout",
          "text": [
            "1 loop, best of 5: 3.69 s per loop\n",
            "10 loops, best of 5: 140 ms per loop\n",
            "10 loops, best of 5: 123 ms per loop\n"
          ]
        }
      ],
      "source": [
        "x=np.random.random(int(5e7))\n",
        "%timeit np.power(x,3)\n",
        "%timeit x*x*x\n",
        "%timeit np.einsum('i,i,i->i',x,x,x)"
      ]
    },
    {
      "cell_type": "markdown",
      "metadata": {
        "id": "vqeBfuMEEbib"
      },
      "source": [
        "#### 93. Consider two arrays A and B of shape (8,3) and (2,2). How to find rows of A that contain elements of each row of B regardless of the order of the elements in B? (★★★) \n",
        "(**hint**: np.where)"
      ]
    },
    {
      "cell_type": "code",
      "execution_count": 135,
      "metadata": {
        "id": "6rxeQeIcEbib",
        "colab": {
          "base_uri": "https://localhost:8080/"
        },
        "outputId": "8b5c2145-5272-466f-c308-fe05bb1483c1"
      },
      "outputs": [
        {
          "output_type": "stream",
          "name": "stdout",
          "text": [
            "[2 3 4 7]\n"
          ]
        }
      ],
      "source": [
        "A=np.random.randint(0,5,(8,3))\n",
        "B=np.random.randint(0,5,(2,2))\n",
        "C=(A[..., np.newaxis, np.newaxis] == B)\n",
        "rows=np.where(C.any((3,1)).all(1))[0]\n",
        "print(rows)"
      ]
    },
    {
      "cell_type": "markdown",
      "metadata": {
        "id": "WgNEewnbEbib"
      },
      "source": [
        "#### 94. Considering a 10x3 matrix, extract rows with unequal values (e.g. \\[2,2,3\\]) (★★★)"
      ]
    },
    {
      "cell_type": "code",
      "execution_count": 136,
      "metadata": {
        "id": "WVGNNc-jEbic",
        "colab": {
          "base_uri": "https://localhost:8080/"
        },
        "outputId": "2b80e247-5bce-42ab-ba5e-22909c6817a9"
      },
      "outputs": [
        {
          "output_type": "stream",
          "name": "stdout",
          "text": [
            "[[0 1 1]\n",
            " [0 2 1]\n",
            " [4 2 1]\n",
            " [3 3 1]\n",
            " [0 4 4]\n",
            " [3 2 2]\n",
            " [3 2 3]\n",
            " [1 0 0]\n",
            " [4 0 4]\n",
            " [2 0 2]]\n",
            "[[0 1 1]\n",
            " [0 2 1]\n",
            " [4 2 1]\n",
            " [3 3 1]\n",
            " [0 4 4]\n",
            " [3 2 2]\n",
            " [3 2 3]\n",
            " [1 0 0]\n",
            " [4 0 4]\n",
            " [2 0 2]]\n",
            "[[0 1 1]\n",
            " [0 2 1]\n",
            " [4 2 1]\n",
            " [3 3 1]\n",
            " [0 4 4]\n",
            " [3 2 2]\n",
            " [3 2 3]\n",
            " [1 0 0]\n",
            " [4 0 4]\n",
            " [2 0 2]]\n"
          ]
        }
      ],
      "source": [
        "Z=np.random.randint(0,5,(10,3))\n",
        "print(Z)\n",
        "E=np.all(Z[:,1:] == Z[:,:-1], axis=1)\n",
        "U=Z[~E]\n",
        "print(U)\n",
        "U=Z[Z.max(axis=1) != Z.min(axis=1),:]\n",
        "print(U)"
      ]
    },
    {
      "cell_type": "markdown",
      "metadata": {
        "id": "UBJPvYuIEbic"
      },
      "source": [
        "#### 95. Convert a vector of ints into a matrix binary representation (★★★) \n",
        "(**hint**: np.unpackbits)"
      ]
    },
    {
      "cell_type": "code",
      "execution_count": 137,
      "metadata": {
        "id": "K87kBShFEbic",
        "colab": {
          "base_uri": "https://localhost:8080/"
        },
        "outputId": "002669bd-244c-4b79-ee14-27f464c86426"
      },
      "outputs": [
        {
          "output_type": "stream",
          "name": "stdout",
          "text": [
            "[[0 0 0 0 0 0 0 0]\n",
            " [0 0 0 0 0 0 0 1]\n",
            " [0 0 0 0 0 0 1 0]\n",
            " [0 0 0 0 0 0 1 1]\n",
            " [0 0 0 0 1 1 1 1]\n",
            " [0 0 0 1 0 0 0 0]\n",
            " [0 0 1 0 0 0 0 0]\n",
            " [0 1 0 0 0 0 0 0]\n",
            " [1 0 0 0 0 0 0 0]]\n",
            "[[0 0 0 0 0 0 0 0]\n",
            " [0 0 0 0 0 0 0 1]\n",
            " [0 0 0 0 0 0 1 0]\n",
            " [0 0 0 0 0 0 1 1]\n",
            " [0 0 0 0 1 1 1 1]\n",
            " [0 0 0 1 0 0 0 0]\n",
            " [0 0 1 0 0 0 0 0]\n",
            " [0 1 0 0 0 0 0 0]\n",
            " [1 0 0 0 0 0 0 0]]\n"
          ]
        }
      ],
      "source": [
        "I = np.array([0, 1, 2, 3, 15, 16, 32, 64, 128])\n",
        "B = ((I.reshape(-1,1) & (2**np.arange(8))) != 0).astype(int)\n",
        "print(B[:,::-1])\n",
        "I = np.array([0, 1, 2, 3, 15, 16, 32, 64, 128], dtype=np.uint8)\n",
        "print(np.unpackbits(I[:, np.newaxis], axis=1))"
      ]
    },
    {
      "cell_type": "markdown",
      "metadata": {
        "id": "X_VPS32hEbid"
      },
      "source": [
        "#### 96. Given a two dimensional array, how to extract unique rows? (★★★) \n",
        "(**hint**: np.ascontiguousarray)"
      ]
    },
    {
      "cell_type": "code",
      "execution_count": 138,
      "metadata": {
        "id": "MPxkQctLEbid",
        "colab": {
          "base_uri": "https://localhost:8080/"
        },
        "outputId": "ac037c7b-17af-42a5-cca7-6bb225598e2b"
      },
      "outputs": [
        {
          "output_type": "stream",
          "name": "stdout",
          "text": [
            "[[0 0 1]\n",
            " [0 1 1]\n",
            " [1 1 0]\n",
            " [1 1 1]]\n"
          ]
        }
      ],
      "source": [
        "Z = np.random.randint(0,2,(6,3))\n",
        "T = np.ascontiguousarray(Z).view(np.dtype((np.void, Z.dtype.itemsize * Z.shape[1])))\n",
        "_, idx = np.unique(T, return_index=True)\n",
        "uZ = Z[idx]\n",
        "print(uZ)"
      ]
    },
    {
      "cell_type": "markdown",
      "metadata": {
        "id": "7yFOYr-sEbid"
      },
      "source": [
        "#### 97. Considering 2 vectors A & B, write the einsum equivalent of inner, outer, sum, and mul function (★★★) \n",
        "(**hint**: np.einsum)"
      ]
    },
    {
      "cell_type": "code",
      "execution_count": 139,
      "metadata": {
        "id": "YuSfQT8-Ebid",
        "colab": {
          "base_uri": "https://localhost:8080/"
        },
        "outputId": "3a2fef71-1f21-4f5d-800c-d99a30cf24fa"
      },
      "outputs": [
        {
          "output_type": "execute_result",
          "data": {
            "text/plain": [
              "array([[5.33493042e-01, 2.76791842e-01, 5.10252809e-01, 2.09661676e-01,\n",
              "        5.25215053e-01, 2.72189079e-01, 9.92178243e-02, 2.78709228e-03,\n",
              "        2.26764853e-01, 2.06412252e-01],\n",
              "       [2.61314597e-01, 1.35577679e-01, 2.49931108e-01, 1.02696103e-01,\n",
              "        2.57259887e-01, 1.33323162e-01, 4.85986952e-02, 1.36516850e-03,\n",
              "        1.11073550e-01, 1.01104476e-01],\n",
              "       [2.32261693e-02, 1.20504180e-02, 2.22143818e-02, 9.12783707e-03,\n",
              "        2.28657785e-02, 1.18500320e-02, 4.31955021e-03, 1.21338934e-04,\n",
              "        9.87244154e-03, 8.98637006e-03],\n",
              "       [6.46684061e-01, 3.35518663e-01, 6.18512956e-01, 2.54145515e-01,\n",
              "        6.36649734e-01, 3.29939334e-01, 1.20268833e-01, 3.37842861e-03,\n",
              "        2.74877467e-01, 2.50206662e-01],\n",
              "       [6.16193217e-01, 3.19699119e-01, 5.89350366e-01, 2.42162675e-01,\n",
              "        6.06632004e-01, 3.14382852e-01, 1.14598215e-01, 3.21913732e-03,\n",
              "        2.61917126e-01, 2.38409538e-01],\n",
              "       [5.04122344e-01, 2.61553462e-01, 4.82161569e-01, 1.98119051e-01,\n",
              "        4.96300088e-01, 2.57204098e-01, 9.37555285e-02, 2.63365289e-03,\n",
              "        2.14280638e-01, 1.95048520e-01],\n",
              "       [8.79448365e-02, 4.56283613e-02, 8.41137490e-02, 3.45621411e-02,\n",
              "        8.65802332e-02, 4.48696087e-02, 1.63557809e-02, 4.59444371e-04,\n",
              "        3.73815521e-02, 3.40264826e-02],\n",
              "       [3.72285776e-01, 1.93152783e-01, 3.56068117e-01, 1.46307549e-01,\n",
              "        3.66509173e-01, 1.89940851e-01, 6.92368630e-02, 1.94490786e-03,\n",
              "        1.58242606e-01, 1.44040014e-01],\n",
              "       [2.86727572e-01, 1.48762676e-01, 2.74237032e-01, 1.12683350e-01,\n",
              "        2.82278539e-01, 1.46288906e-01, 5.33249425e-02, 1.49793182e-03,\n",
              "        1.21875508e-01, 1.10936936e-01],\n",
              "       [3.54495948e-01, 1.83922898e-01, 3.39053256e-01, 1.39316183e-01,\n",
              "        3.48995382e-01, 1.80864450e-01, 6.59283512e-02, 1.85196964e-03,\n",
              "        1.50680918e-01, 1.37157003e-01]])"
            ]
          },
          "metadata": {},
          "execution_count": 139
        }
      ],
      "source": [
        "A = np.random.uniform(0,1,10)\n",
        "B = np.random.uniform(0,1,10)\n",
        "np.einsum('i->', A)       \n",
        "np.einsum('i,i->i', A, B) \n",
        "np.einsum('i,i', A, B)    \n",
        "np.einsum('i,j->ij', A, B)"
      ]
    },
    {
      "cell_type": "markdown",
      "metadata": {
        "id": "GhEBfpCcEbid"
      },
      "source": [
        "#### 98. Considering a path described by two vectors (X,Y), how to sample it using equidistant samples (★★★)? \n",
        "(**hint**: np.cumsum, np.interp)"
      ]
    },
    {
      "cell_type": "code",
      "execution_count": 140,
      "metadata": {
        "collapsed": true,
        "id": "qwtbdAV5Ebie",
        "colab": {
          "base_uri": "https://localhost:8080/"
        },
        "outputId": "8db0aea7-2758-420f-ba38-31c62533fd70"
      },
      "outputs": [
        {
          "output_type": "execute_result",
          "data": {
            "text/plain": [
              "array([ 0. ,  0.1,  0.2,  0.3,  0.4,  0.5,  0.6,  0.7,  0.8,  0.9,  1. ,\n",
              "        1.1,  1.2,  1.3,  1.4,  1.5,  1.6,  1.7,  1.8,  1.9,  2. ,  2.1,\n",
              "        2.2,  2.3,  2.4,  2.5,  2.6,  2.7,  2.8,  2.9,  3. ,  3.1,  3.2,\n",
              "        3.3,  3.4,  3.5,  3.6,  3.7,  3.8,  3.9,  4. ,  4.1,  4.2,  4.3,\n",
              "        4.4,  4.5,  4.6,  4.7,  4.8,  4.9,  5. ,  5.1,  5.2,  5.3,  5.4,\n",
              "        5.5,  5.6,  5.7,  5.8,  5.9,  6. ,  6.1,  6.2,  6.3,  6.4,  6.5,\n",
              "        6.6,  6.7,  6.8,  6.9,  7. ,  7.1,  7.2,  7.3,  7.4,  7.5,  7.6,\n",
              "        7.7,  7.8,  7.9,  8. ,  8.1,  8.2,  8.3,  8.4,  8.5,  8.6,  8.7,\n",
              "        8.8,  8.9,  9. ,  9.1,  9.2,  9.3,  9.4,  9.5,  9.6,  9.7,  9.8,\n",
              "        9.9, 10. , 10.1, 10.2, 10.3, 10.4, 10.5, 10.6, 10.7, 10.8, 10.9,\n",
              "       11. , 11.1, 11.2, 11.3, 11.4, 11.5, 11.6, 11.7, 11.8, 11.9, 12. ,\n",
              "       12.1, 12.2, 12.3, 12.4, 12.5, 12.6, 12.7, 12.8, 12.9, 13. , 13.1,\n",
              "       13.2, 13.3, 13.4, 13.5, 13.6, 13.7, 13.8, 13.9, 14. , 14.1, 14.2,\n",
              "       14.3, 14.4, 14.5, 14.6, 14.7, 14.8, 14.9, 15. , 15.1, 15.2, 15.3,\n",
              "       15.4, 15.5, 15.6, 15.7, 15.8, 15.9, 16. , 16.1, 16.2, 16.3, 16.4,\n",
              "       16.5, 16.6, 16.7, 16.8, 16.9, 17. , 17.1, 17.2, 17.3, 17.4, 17.5,\n",
              "       17.6, 17.7, 17.8, 17.9, 18. , 18.1, 18.2, 18.3, 18.4, 18.5, 18.6,\n",
              "       18.7, 18.8, 18.9, 19. , 19.1, 19.2, 19.3, 19.4, 19.5, 19.6, 19.7,\n",
              "       19.8, 19.9, 20. , 20.1, 20.2, 20.3, 20.4, 20.5, 20.6, 20.7, 20.8,\n",
              "       20.9, 21. , 21.1, 21.2, 21.3, 21.4, 21.5, 21.6, 21.7, 21.8, 21.9,\n",
              "       22. , 22.1, 22.2, 22.3, 22.4, 22.5, 22.6, 22.7, 22.8, 22.9, 23. ,\n",
              "       23.1, 23.2, 23.3, 23.4, 23.5, 23.6, 23.7, 23.8, 23.9, 24. , 24.1,\n",
              "       24.2, 24.3, 24.4, 24.5, 24.6, 24.7, 24.8, 24.9, 25. , 25.1, 25.2,\n",
              "       25.3, 25.4, 25.5, 25.6, 25.7, 25.8, 25.9, 26. , 26.1, 26.2, 26.3,\n",
              "       26.4, 26.5, 26.6, 26.7, 26.8, 26.9, 27. , 27.1, 27.2, 27.3, 27.4,\n",
              "       27.5, 27.6, 27.7, 27.8, 27.9, 28. , 28.1, 28.2, 28.3, 28.4, 28.5,\n",
              "       28.6, 28.7, 28.8, 28.9, 29. , 29.1, 29.2, 29.3, 29.4, 29.5, 29.6,\n",
              "       29.7, 29.8, 29.9, 30. , 30.1, 30.2, 30.3, 30.4, 30.5, 30.6, 30.7,\n",
              "       30.8, 30.9, 31. , 31.1, 31.2, 31.3, 31.4])"
            ]
          },
          "metadata": {},
          "execution_count": 140
        }
      ],
      "source": [
        "phi = np.arange(0,10*np.pi,0.1)\n",
        "phi"
      ]
    },
    {
      "cell_type": "code",
      "source": [
        "a = 1\n",
        "x = a*phi*np.cos(phi)\n",
        "y = a*phi*np.sin(phi)"
      ],
      "metadata": {
        "id": "nm72pVts4aQd"
      },
      "execution_count": 141,
      "outputs": []
    },
    {
      "cell_type": "code",
      "source": [
        "dr = (np.diff(x)**2 + np.diff(y)**2)**0.5"
      ],
      "metadata": {
        "id": "F4mD4IeB407L"
      },
      "execution_count": 142,
      "outputs": []
    },
    {
      "cell_type": "code",
      "source": [
        "r=np.zeros_like(x)\n",
        "r[1:] = np.cumsum(dr)\n",
        "r_int = np.linspace(0,r.max(),200)\n",
        "x_int = np.interp(r_int, r, x)\n",
        "y_int = np.interp(r_int, r, y)"
      ],
      "metadata": {
        "id": "dEzzJ10C5HJf"
      },
      "execution_count": 143,
      "outputs": []
    },
    {
      "cell_type": "markdown",
      "metadata": {
        "id": "Z0zQ3XJ4Ebie"
      },
      "source": [
        "#### 99. Given an integer n and a 2D array X, select from X the rows which can be interpreted as draws from a multinomial distribution with n degrees, i.e., the rows which only contain integers and which sum to n. (★★★) \n",
        "(**hint**: np.logical\\_and.reduce, np.mod)"
      ]
    },
    {
      "cell_type": "code",
      "execution_count": 144,
      "metadata": {
        "id": "9eidlvlUEbie",
        "colab": {
          "base_uri": "https://localhost:8080/"
        },
        "outputId": "4c0b64d0-716c-4a7e-c521-0584fd4ddac3"
      },
      "outputs": [
        {
          "output_type": "stream",
          "name": "stdout",
          "text": [
            "[[2. 0. 1. 1.]]\n"
          ]
        }
      ],
      "source": [
        "X=np.asarray([[1.0, 0.0, 3.0, 8.0],\n",
        "                [2.0, 0.0, 1.0, 1.0],\n",
        "                [1.5, 2.5, 1.0, 0.0]])\n",
        "n=4\n",
        "M=np.logical_and.reduce(np.mod(X, 1) == 0, axis=-1)\n",
        "M&=(X.sum(axis=-1) == n)\n",
        "print(X[M])"
      ]
    },
    {
      "cell_type": "markdown",
      "metadata": {
        "id": "oBQPObUIEbie"
      },
      "source": [
        "#### 100. Compute bootstrapped 95% confidence intervals for the mean of a 1D array X (i.e., resample the elements of an array with replacement N times, compute the mean of each sample, and then compute percentiles over the means). (★★★) \n",
        "(**hint**: np.percentile)"
      ]
    },
    {
      "cell_type": "code",
      "execution_count": 145,
      "metadata": {
        "id": "L_OVrrYkEbie",
        "colab": {
          "base_uri": "https://localhost:8080/"
        },
        "outputId": "3d5af653-ace9-4390-b44f-508c4b285a0c"
      },
      "outputs": [
        {
          "output_type": "stream",
          "name": "stdout",
          "text": [
            "[-0.37385356  0.02956644]\n"
          ]
        }
      ],
      "source": [
        "X=np.random.randn(100) \n",
        "N=1000 \n",
        "idx=np.random.randint(0, X.size, (N, X.size))\n",
        "means=X[idx].mean(axis=1)\n",
        "confint=np.percentile(means, [2.5, 97.5])\n",
        "print(confint)"
      ]
    }
  ],
  "metadata": {
    "kernelspec": {
      "display_name": "Python 3",
      "language": "python",
      "name": "python3"
    },
    "language_info": {
      "codemirror_mode": {
        "name": "ipython",
        "version": 3
      },
      "file_extension": ".py",
      "mimetype": "text/x-python",
      "name": "python",
      "nbconvert_exporter": "python",
      "pygments_lexer": "ipython3",
      "version": "3.8.3"
    },
    "colab": {
      "name": "Task2_Numpy.ipynb",
      "provenance": [],
      "collapsed_sections": [],
      "include_colab_link": true
    }
  },
  "nbformat": 4,
  "nbformat_minor": 0
}